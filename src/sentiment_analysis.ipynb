{
 "cells": [
  {
   "cell_type": "code",
   "execution_count": null,
   "metadata": {},
   "outputs": [],
   "source": [
    "import stanza    \n",
    "stanza.download('en') # download English model\n",
    "nlp = stanza.Pipeline('en') # initialize English neural pipeline"
   ]
  },
  {
   "cell_type": "code",
   "execution_count": 1,
   "metadata": {},
   "outputs": [],
   "source": [
    "import pandas as pd\n",
    "\n",
    "# Importing the dataset\n",
    "dataset = pd.read_csv('../datasets/2018-EI-oc-En-fear-dev.txt', sep=\"\\t\", header=None, skiprows=1)\n",
    "\n",
    "'''\n",
    "li = []\n",
    "all_files= {'../datasets/2018-EI-oc-En-joy-dev.txt', '../datasets/2018-EI-oc-En-sadness-dev.txt', '../datasets/2018-EI-oc-En-anger-dev.txt', '../datasets/2018-EI-oc-En-fear-dev.txt'}\n",
    "\n",
    "for filename in all_files:\n",
    "    df = pd.read_csv(filename, sep=\"\\t\", header=None, skiprows=1)\n",
    "    li.append(df)\n",
    "\n",
    "dataset = pd.concat(li, axis=0, ignore_index=True)\n",
    "'''\n",
    "dataset.columns = ['date', 'text', 'emotion', 'level']\n",
    "dataset= dataset.sample(frac=1)\n"
   ]
  },
  {
   "cell_type": "code",
   "execution_count": null,
   "metadata": {
    "tags": [
     "outputPrepend"
    ]
   },
   "outputs": [],
   "source": [
    "import re\n",
    "import nltk\n",
    "from nltk.stem.porter import PorterStemmer\n",
    "from nltk.corpus import stopwords\n",
    "import emoji\n",
    "from nltk.stem import WordNetLemmatizer \n",
    "  \n",
    "lemmatizer = WordNetLemmatizer() \n",
    "\n",
    "corpus = []\n",
    "ps = PorterStemmer()\n",
    "\n",
    "for index, row in dataset.iterrows():\n",
    "    tweet = row['text']\n",
    "\n",
    "    #handle users\n",
    "    tweet = re.sub('@.*', '@user', tweet) \n",
    "\n",
    "    \n",
    "    \n",
    "    tweet = tweet.lower().split()\n",
    "    #tweet = nltk.word_tokenize(tweet)\n",
    "\n",
    "    # stemming and stop word removal\n",
    "    tweet = ' '.join([lemmatizer.lemmatize(w) for w in tweet if not w in set(stopwords.words('english'))])\n",
    "    \n",
    "\n",
    "    #tweet = nlp(tweet) # run annotation over a sentence\n",
    "    \n",
    "    \n",
    "    #emojis\n",
    "    tweet = emoji.demojize(tweet)\n",
    "    \n",
    "    corpus.append(tweet)\n",
    "\n",
    "print(corpus)\n"
   ]
  },
  {
   "cell_type": "code",
   "execution_count": 2,
   "metadata": {
    "tags": [
     "outputPrepend"
    ]
   },
   "outputs": [
    {
     "output_type": "stream",
     "name": "stdout",
     "text": "y([-0.5495291 , -0.7918779 ,  0.42133626, ..., -0.45186043,\n        1.2712893 , -0.30512768], dtype=float32), array([ 0.19070424, -0.03193848,  0.38265812, ...,  0.36015743,\n        0.31004107,  0.67703635], dtype=float32), array([-0.5449671 ,  0.31310982, -1.1478119 , ...,  0.19127414,\n       -0.04789663,  0.29773694], dtype=float32), array([-0.39347076,  0.19082141,  0.23770455, ...,  0.26232812,\n       -0.40102518,  0.41818148], dtype=float32), array([-0.0806164 ,  0.1232103 , -0.6826154 , ...,  0.30468202,\n       -0.07247794,  0.22103599], dtype=float32), array([-0.41422665,  0.13156877,  0.06671315, ...,  0.23848504,\n        0.31772968, -0.38602728], dtype=float32), array([-0.37396076,  0.11147672,  0.68977755, ...,  0.13982588,\n       -0.6207702 , -0.03338522], dtype=float32), array([ 0.7093064 ,  0.7645921 , -0.36428154, ...,  0.51205176,\n        0.09070683, -0.2818346 ], dtype=float32), array([ 1.057663  ,  1.3295591 , -0.7451169 , ...,  0.49303836,\n        0.10944813, -0.7413634 ], dtype=float32), array([ 0.97428906,  1.1874806 ,  0.38224813, ...,  0.2319355 ,\n        0.4772705 , -0.8875044 ], dtype=float32), array([-0.32354558,  0.3710519 , -0.43251213, ...,  0.00577624,\n       -0.16320929, -0.17555416], dtype=float32), array([ 1.1581464 ,  0.9268989 , -0.40480646, ...,  0.34856334,\n       -1.3188031 ,  0.01303392], dtype=float32), array([ 0.18024842,  0.25955632,  0.38067704, ..., -0.19629356,\n       -0.16682257, -1.0703189 ], dtype=float32), array([ 0.03695165, -0.5597686 , -0.00652412, ..., -0.04400311,\n        0.12145151, -0.38399023], dtype=float32)]), (['Paul', 'Ehrlich', 'said', 'that', 'humanity', 'is', 'a', 'threat', 'to', 'all', 'life', '.', 'Such', 'great', 'news', 'to', 'start', 'the', 'day', '.', 'If'], [array([-0.4785028 , -0.8613773 , -0.01537364, ..., -0.39413387,\n        0.06707254, -0.24173151], dtype=float32), array([-0.4271951 , -0.06089948,  0.33504662, ...,  0.44404218,\n        0.2998674 ,  0.29764554], dtype=float32), array([-0.5932397 ,  0.97156024,  0.3458337 , ...,  0.52448833,\n        0.09969585, -0.5347649 ], dtype=float32), array([-0.15737593,  0.2936425 ,  0.2681137 , ...,  0.5716864 ,\n       -0.2122124 , -0.17860228], dtype=float32), array([-0.28198668,  0.3861959 ,  0.21902484, ...,  0.46627885,\n        0.63591707, -0.2668125 ], dtype=float32), array([ 0.0458602 ,  0.3700801 , -0.32494104, ...,  0.79047155,\n        0.34099123,  0.04513424], dtype=float32), array([ 0.1549157 ,  0.43735754, -0.00830202, ..., -0.01579228,\n        0.09824163, -0.33025515], dtype=float32), array([-1.0593011 ,  0.13300058, -0.34543493, ...,  0.69133276,\n       -0.6940507 , -0.0343667 ], dtype=float32), array([-0.6734928 ,  1.8485254 ,  0.5306109 , ...,  0.5033524 ,\n        0.16619574, -0.96941483], dtype=float32), array([-0.12364566,  1.0689137 ,  0.49643597, ...,  0.3269859 ,\n       -0.20819809, -0.9583719 ], dtype=float32), array([-0.09881701,  0.5544965 ,  0.03729427, ...,  0.3562675 ,\n       -0.09481648, -0.07673095], dtype=float32), array([-0.3630985 , -0.74310327, -0.543568  , ..., -0.10001738,\n        0.25931042, -0.628067  ], dtype=float32), array([-0.512873  , -1.0237789 ,  0.4280497 , ...,  0.07629801,\n        0.47920498,  0.08236384], dtype=float32), array([-0.28878886,  0.2759149 ,  0.3980625 , ..., -0.4731478 ,\n       -0.07444155,  0.3053711 ], dtype=float32), array([-1.2383354 ,  0.4210009 , -0.10352269, ...,  0.26612902,\n       -0.31330627,  0.36078316], dtype=float32), array([-0.13299815,  0.8334314 ,  1.148531  , ...,  0.01131622,\n        0.10375257, -0.5581238 ], dtype=float32), array([ 0.42373955, -0.054344  ,  0.0559438 , ...,  0.13081574,\n       -0.26371607, -0.2864954 ], dtype=float32), array([-0.16441754,  0.20413586,  0.5715766 , ...,  0.18497556,\n        0.0055667 ,  0.01398448], dtype=float32), array([-0.26268917, -0.29861477, -0.46210158, ...,  0.04760376,\n       -0.36798853,  0.18729736], dtype=float32), array([-0.3631041 , -0.74312955, -0.5435679 , ..., -0.10000039,\n        0.25931177, -0.6280793 ], dtype=float32), array([-0.05144868, -0.29693082,  0.09216774, ...,  0.4328227 ,\n        0.15917677, -0.2611807 ], dtype=float32)]), (['A', 'programmer', '’', 's', 'wisdom', 'is', 'understanding', 'the', 'difference', 'between', 'getting', 'program', 'to', 'run', 'and', 'having', 'a', 'runnable', 'program', '.', '#'], [array([-0.3658452 , -1.0832324 , -0.06823106, ..., -0.543925  ,\n        0.09377505, -0.25662792], dtype=float32), array([ 0.48320705, -0.49310133, -0.624926  , ...,  0.22307071,\n        0.00419516, -0.49377197], dtype=float32), array([-0.15663788, -0.08943304, -0.28728595, ...,  0.0800712 ,\n       -0.0197278 ,  0.1627548 ], dtype=float32), array([ 0.31954086, -0.48761433,  0.21582505, ...,  0.7406697 ,\n       -0.49001902,  0.41718423], dtype=float32), array([ 0.14892347,  0.3204526 , -0.5898738 , ...,  0.3308911 ,\n       -0.6659963 , -0.29995644], dtype=float32), array([ 0.4635474 ,  0.07716863, -0.5803359 , ...,  1.2622736 ,\n       -0.2568872 ,  0.72510034], dtype=float32), array([-0.23014629,  0.7123989 , -0.39343962, ...,  0.08719763,\n       -0.69578594, -0.27876556], dtype=float32), array([ 1.0026644 ,  0.16492938, -0.04329859, ...,  1.8154428 ,\n        0.1545752 ,  0.50121164], dtype=float32), array([ 0.09826219,  0.68099123, -1.1168523 , ...,  1.0671506 ,\n       -0.04583396,  0.23300588], dtype=float32), array([ 0.40945667,  1.8305175 , -0.38808545, ...,  0.7407972 ,\n       -0.06541852,  0.59296656], dtype=float32), array([ 0.05794322,  0.7835783 ,  0.7123665 , ...,  0.30694273,\n        0.7314911 , -0.57850575], dtype=float32), array([-0.1271952 ,  0.02284747, -0.07514549, ...,  0.25653183,\n        0.02307842,  0.10455531], dtype=float32), array([ 0.59936506,  0.765     ,  0.43404686, ...,  0.10970682,\n        0.54889214, -0.09681147], dtype=float32), array([-0.08852991,  0.47683477, -0.4492538 , ..., -0.1170359 ,\n       -0.5511283 , -0.12676372], dtype=float32), array([ 0.23030229, -0.51932484, -0.8135719 , ..., -0.18105875,\n       -0.32317254,  0.06997363], dtype=float32), array([-0.6013951 ,  0.7092325 ,  0.27462536, ...,  0.22415224,\n        0.15707935, -0.25166172], dtype=float32), array([ 1.3828592 ,  0.22664426, -0.0862804 , ..., -0.10482912,\n        0.28149176,  0.28892815], dtype=float32), array([-0.09148913,  1.1065838 , -0.20254111, ...,  0.5255208 ,\n       -0.3691424 , -0.0761261 ], dtype=float32), array([ 0.46646178, -0.13804474, -0.37659696, ...,  0.83522445,\n        0.01000093,  0.11553342], dtype=float32), array([ 0.41586006, -0.77250814, -0.5716365 , ..., -0.9658789 ,\n        0.01164504, -0.329179  ], dtype=float32), array([-0.11221634, -0.3117121 , -0.23004505, ...,  0.4639675 ,\n        0.29077289,  0.39876968], dtype=float32)]), (['Alright', 'Alex', 'and', 'I', 'have', 'party', 'boy', 'neighbors', 'who', 'blast', 'music'], [array([ 0.24666305, -1.1409101 , -0.05754218, ..., -0.78074956,\n       -0.07788439, -0.02489375], dtype=float32), array([-0.33956927,  0.35390896,  0.09057846, ...,  0.21397701,\n       -0.2824421 , -0.18353868], dtype=float32), array([ 0.14488636, -0.45310545,  0.04625525, ..., -0.0033901 ,\n        0.00431377, -0.309183  ], dtype=float32), array([-0.86448586, -0.3470539 ,  0.7415525 , ...,  0.3987528 ,\n        0.53547615, -0.49356878], dtype=float32), array([-0.3461508 , -0.09262113, -0.3492764 , ...,  0.46277446,\n        0.633944  , -0.28352696], dtype=float32), array([ 0.46001196,  0.31569323, -0.07592259, ..., -0.3344476 ,\n        0.34516484, -0.4137475 ], dtype=float32), array([ 0.57958996, -0.42535457, -0.49941003, ...,  0.6867112 ,\n       -0.31003782,  0.08437456], dtype=float32), array([ 0.16274549, -0.1945669 , -0.9162561 , ...,  0.43294722,\n       -0.23702548, -0.67240405], dtype=float32), array([ 0.14632829,  0.42919183,  0.08703136, ...,  0.97887653,\n       -0.08199649, -0.51721877], dtype=float32), array([-0.04472716,  0.07321517,  0.10818582, ...,  0.18223488,\n        0.10504559,  0.0729192 ], dtype=float32), array([-0.19033113, -0.8831087 , -0.07648976, ..., -0.0518988 ,\n       -0.38162214,  0.32345814], dtype=float32)]), (['@', 'CNN', '@', 'NewDay', 'If', '#', 'trump', '#', 'whitehouse', 'aren', \"'\", 't', 'held', 'accountable', 'for', 'their', 'actions', ','], [array([-0.21434528, -1.1148914 , -0.13869494, ..., -0.7404123 ,\n        0.12306474, -0.29396623], dtype=float32), array([-0.4064321 ,  0.3793364 ,  0.1926943 , ..., -0.85004634,\n        0.11637416,  0.20881736], dtype=float32), array([-0.28499976, -0.17912406, -0.50977373, ...,  0.07438797,\n       -0.24342541, -0.06555805], dtype=float32), array([-0.05711248,  0.32061452, -0.08637104, ..., -0.7028937 ,\n       -0.03891049,  0.5000097 ], dtype=float32), array([ 0.31225294,  0.44054955,  0.37563035, ...,  0.7550996 ,\n       -0.26622427,  0.21122475], dtype=float32), array([-0.28781927,  0.24772637,  0.5272922 , ...,  0.09652512,\n       -0.17984091, -0.11587346], dtype=float32), array([-0.50475055,  0.12128089,  0.6908298 , ..., -0.10980051,\n        0.1056044 ,  1.0160161 ], dtype=float32), array([-0.4273106 , -0.20084618, -0.16691688, ...,  0.2763247 ,\n        0.02148515, -0.35007763], dtype=float32), array([-0.07344692,  0.04946505,  0.21038386, ..., -0.58591425,\n       -0.35335055,  0.31131136], dtype=float32), array([ 0.52039737, -0.03254504, -0.08359701, ...,  0.50067985,\n       -0.10821784,  0.72428393], dtype=float32), array([ 0.9578886 ,  0.1526816 ,  0.11084262, ..., -0.828431  ,\n       -0.06814906,  0.5348183 ], dtype=float32), array([ 0.8144042 , -0.36426333,  1.1890951 , ...,  0.36872047,\n        0.02483397,  0.5336599 ], dtype=float32), array([ 0.80768174,  1.3400478 ,  0.20196036, ...,  0.11812428,\n       -0.19819082,  0.25170586], dtype=float32), array([-0.07881827,  0.530216  , -0.8706957 , ...,  0.4555583 ,\n       -0.71703124,  0.46350163], dtype=float32), array([ 0.957384  ,  0.13505764,  0.13976917, ..., -0.8017845 ,\n       -0.01514484,  0.61813855], dtype=float32), array([ 0.06912251,  0.30047703,  0.10023528, ...,  0.26656094,\n       -0.26123333,  0.4717124 ], dtype=float32), array([-0.32322827,  0.651454  , -0.5135898 , ...,  0.16770771,\n        0.13371375,  0.31592566], dtype=float32), array([ 0.26535517, -0.65137887, -0.28975308, ...,  0.5668129 ,\n       -0.5029043 ,  0.45160514], dtype=float32)]), (['I', 'think', \"'\", 'Sleep', \"'\", 'is', 'my', 'favorite', 'from', 'How', 'did', 'we', 'get', 'so', 'dark', '?', ',', 'maybe', 'because', 'I', \"'\", 'm', 'ins'], [array([-0.5654413 , -1.0148671 ,  0.06784469, ..., -0.5824827 ,\n        0.10961959, -0.52728266], dtype=float32), array([ 0.09994091, -0.5286778 ,  0.41895694, ...,  0.7774172 ,\n        0.38580668,  0.07328624], dtype=float32), array([-0.09702353,  0.79088724,  0.5122071 , ...,  0.01064279,\n        0.5138211 ,  0.49135923], dtype=float32), array([ 0.01979448,  0.3818478 ,  0.00196697, ..., -0.21993567,\n        0.51823926, -0.25948477], dtype=float32), array([ 0.02833134, -0.22228487,  0.16304606, ...,  0.24825546,\n       -0.1167599 , -0.20519145], dtype=float32), array([-0.07691935,  0.42125335, -0.5202684 , ...,  0.54457957,\n       -0.04153695,  0.84011465], dtype=float32), array([-0.01120609,  0.05840572,  0.16400307, ..., -0.2982052 ,\n        0.18099076, -0.2812426 ], dtype=float32), array([ 0.30777407, -0.6082192 , -0.08796583, ...,  0.5315293 ,\n       -0.31499928,  0.5610612 ], dtype=float32), array([-0.34618956,  0.38466182, -0.22721687, ...,  0.27508995,\n       -0.54556865,  0.27589703], dtype=float32), array([-0.14378998, -0.24282251,  0.29634207, ..., -0.13321194,\n       -0.06162735, -1.2680682 ], dtype=float32), array([ 0.32693934,  0.30069467,  0.24635029, ..., -0.02902997,\n        0.44499943, -0.31942952], dtype=float32), array([ 0.56086797,  0.61521417,  0.51947284, ...,  0.46144128,\n        1.0655096 , -0.31507766], dtype=float32), array([-0.27292413,  0.89558434,  0.30189005, ...,  0.3354678 ,\n        1.2277865 ,  0.1279372 ], dtype=float32), array([0.62425035, 0.30338946, 0.15852183, ..., 0.09418873, 0.72708005,\n       0.4323628 ], dtype=float32), array([ 0.30543268, -1.4635925 , -0.12592602, ..., -0.19098143,\n        0.30755806,  0.6743235 ], dtype=float32), array([ 0.10466528,  0.362041  , -0.3876077 , ...,  0.42696315,\n        0.04650476, -0.44444007], dtype=float32), array([ 0.13158993, -0.42561564,  0.21326166, ..., -0.00787022,\n       -0.18122146, -0.17141302], dtype=float32), array([ 0.889482  ,  1.0759839 , -0.5505369 , ...,  0.51073366,\n        0.02930208, -0.17746076], dtype=float32), array([-0.00891222,  1.6219915 ,  0.17811126, ...,  0.7662807 ,\n       -0.40615907, -0.3729754 ], dtype=float32), array([-0.25839967, -0.24676384,  0.43120033, ...,  0.1622035 ,\n        0.5434358 , -0.47275853], dtype=float32), array([ 0.67698455,  0.6450306 , -0.19670638, ..., -0.62986165,\n        0.22036722,  0.6381103 ], dtype=float32), array([ 0.78173053, -0.62227786,  0.63719225, ...,  0.75755584,\n        0.7296282 , -0.38896787], dtype=float32), array([-0.42919672, -0.8138463 , -0.29490787, ..., -0.09014878,\n        0.14030823,  0.3040253 ], dtype=float32)]), (['It', 'is', 'beautiful', 'here', '!', 'I', 'will', 'not', 'falter', '.'], [array([-0.55224144, -0.9996643 , -0.15444872, ..., -0.56972635,\n        0.04247985, -0.43581593], dtype=float32), array([ 0.1563154 ,  0.10584931, -0.31829664, ...,  0.11812338,\n       -0.4079629 , -0.12576841], dtype=float32), array([-0.18212582,  0.31184515,  0.6839732 , ..., -1.2986045 ,\n       -0.18256474,  0.11698274], dtype=float32), array([-0.16340752,  0.06589358, -0.5449826 , ..., -0.02551492,\n       -0.5007332 , -0.2739929 ], dtype=float32), array([-0.16863263, -0.4357556 , -0.3682108 , ...,  0.06232601,\n       -0.8599958 , -0.6081074 ], dtype=float32), array([-0.42402643, -0.9143281 , -0.00550919, ...,  0.3088749 ,\n        0.1548122 , -0.33345407], dtype=float32), array([-0.38642102,  0.15987991, -0.08148661, ...,  0.6834801 ,\n       -0.5378376 ,  0.07387972], dtype=float32), array([-0.65422946, -0.08277293,  0.16877207, ...,  0.15036888,\n       -0.6306856 , -0.2836904 ], dtype=float32), array([-0.04782838,  0.62148565, -0.508833  , ...,  0.48070765,\n        0.16012959,  1.0238749 ], dtype=float32), array([ 0.24607234, -1.4581481 , -1.0671613 , ..., -0.19620603,\n       -0.33480582, -0.311238  ], dtype=float32)]), (['i', 'excepted', 'the', 'eclipse', 'to', 'make', 'me', 'believe', 'in', 'an', 'omniscience', 'force', '#', 'dissapointed'], [array([-0.42304093, -0.8145961 , -0.10744664, ..., -0.5931832 ,\n       -0.20563358, -0.45363134], dtype=float32), array([-0.52665687,  0.06302553,  0.29065275, ...,  0.29881805,\n        0.09826499, -0.01715934], dtype=float32), array([0.23870839, 0.8185866 , 0.8619036 , ..., 0.12627172, 0.52160525,\n       0.7235253 ], dtype=float32), array([ 0.21902542, -0.38945132, -0.19680274, ..., -0.4222301 ,\n       -0.02108127,  0.26501334], dtype=float32), array([-0.05234621,  2.2019727 ,  0.17374212, ...,  1.3640316 ,\n        0.8098354 , -0.41253537], dtype=float32), array([ 0.3017553 ,  1.5260353 , -0.3485172 , ...,  0.16976953,\n        0.7052381 , -0.02859207], dtype=float32), array([-0.4282679 ,  0.37481862, -0.07968816, ..., -0.282112  ,\n        0.07754417,  0.00462502], dtype=float32), array([0.26660222, 0.61374366, 0.5364854 , ..., 0.14089811, 0.92117614,\n       0.23594218], dtype=float32), array([ 0.9161885 ,  1.2126331 ,  0.14382306, ..., -0.39000088,\n        0.7912878 ,  0.483997  ], dtype=float32), array([0.6596823 , 0.6999689 , 0.66424954, ..., 0.54766333, 0.21023852,\n       0.42068368], dtype=float32), array([-0.08415914,  0.70101655,  0.6146029 , ...,  0.4297723 ,\n       -0.3356772 ,  0.00408915], dtype=float32), array([ 0.5740602 ,  1.0192752 , -0.28923106, ..., -0.07558755,\n        0.00367783,  0.09504339], dtype=float32), array([-0.4304489 ,  0.33445248, -0.15669398, ...,  0.05336899,\n       -0.3295365 ,  0.267186  ], dtype=float32), array([-0.35819477,  0.90798414, -0.15890266, ..., -0.00460796,\n       -0.07153897,  0.34891003], dtype=float32)]), (['I', \"'\", 'm', 'soooo', 'annoyed', '.', 'Wait', 'to', 'start', 'my', 'morning', '.'], [array([-0.57098407, -1.2486104 ,  0.24338248, ..., -0.40731543,\n        0.26848388, -0.47307974], dtype=float32), array([ 0.9917362 , -0.24602361,  0.13499671, ..., -0.6863331 ,\n       -0.76090056,  0.22837226], dtype=float32), array([ 0.68923604, -1.1750673 ,  0.58357733, ...,  0.02744264,\n       -0.01868433, -0.48152834], dtype=float32), array([ 0.17791776, -0.17507786,  0.00574275, ...,  0.03713425,\n       -0.41224965, -0.6759744 ], dtype=float32), array([-0.30199206,  0.5030522 , -0.20624861, ..., -0.0824687 ,\n       -0.27982652, -0.20121142], dtype=float32), array([ 0.9282371 , -0.90431684,  0.16375896, ...,  0.27219874,\n       -0.2904467 , -0.8499933 ], dtype=float32), array([ 0.78972095, -0.6779991 , -0.18907544, ...,  0.6349161 ,\n       -0.08620254,  0.11831049], dtype=float32), array([ 0.7023864 ,  0.34876636,  0.68267876, ..., -0.1680533 ,\n        0.31287482, -0.5938266 ], dtype=float32), array([ 0.71034384, -0.00513955, -0.13911964, ...,  0.31391025,\n        0.13444203,  0.41207373], dtype=float32), array([-0.0431705 , -0.8451651 ,  0.62130266, ..., -0.0255075 ,\n        0.25038275, -0.07487135], dtype=float32), array([ 0.5970051 ,  0.05529837, -0.00522408, ...,  0.04827571,\n       -0.1829438 ,  0.08430013], dtype=float32), array([ 0.81374955, -0.9925524 , -0.7679897 , ..., -0.3039018 ,\n       -0.31811255, -0.581064  ], dtype=float32)]), (['#', 'Worry', ',', '#', 'doubt', ',', '#', 'fear', 'and', '#', 'despair', 'are', 'the', 'enemies', 'which', 'slowly', 'bring', 'us', 'down', 'to', 'the'], [array([-0.42227888, -0.71340555, -0.14048657, ..., -0.7091066 ,\n        0.02197466, -0.14389065], dtype=float32), array([-0.09942011,  0.7898392 , -0.06690333, ..., -0.52342254,\n       -0.35661802, -0.6760984 ], dtype=float32), array([-0.66707414,  0.25172657, -0.67755544, ...,  0.61001885,\n        1.2084029 , -0.6437403 ], dtype=float32), array([-0.25788042,  0.5297013 , -0.37868547, ..., -0.35573763,\n        0.19709365, -0.04150759], dtype=float32), array([-0.26521784,  0.79369843,  0.37441897, ..., -0.11526349,\n        0.35439393,  0.4851671 ], dtype=float32), array([-0.39325935,  0.50028706, -0.81124234, ...,  0.761334  ,\n        0.90088373, -0.6124324 ], dtype=float32), array([-0.23101862,  0.48077476, -0.47189888, ..., -0.43189713,\n        0.26658154, -0.01205838], dtype=float32), array([-0.46425873,  0.77443635,  0.6608586 , ...,  0.13107337,\n       -0.32033774,  0.6663944 ], dtype=float32), array([-0.33652496,  0.05177485, -0.6463086 , ..., -0.5454254 ,\n        0.6215625 ,  0.19437021], dtype=float32), array([-0.14264889,  0.47837394, -0.31024644, ..., -0.6167908 ,\n        0.04765089,  0.0246224 ], dtype=float32), array([ 0.0743992 ,  0.69313383,  0.2656892 , ..., -0.10126031,\n        0.06313656,  0.3065148 ], dtype=float32), array([-0.5704672 ,  0.64024985, -0.07854672, ...,  1.0853369 ,\n       -0.08171502,  0.30086952], dtype=float32), array([ 0.07499115,  0.40681392,  0.28257012, ...,  0.787618  ,\n       -0.16154535,  0.08733868], dtype=float32), array([-1.0690514 ,  0.7264565 , -0.5267049 , ...,  0.71822876,\n       -0.09963702, -0.51533747], dtype=float32), array([-0.2106151 ,  1.2232035 , -0.14069532, ...,  1.0689228 ,\n        0.0178127 ,  0.55550504], dtype=float32), array([0.56617856, 1.3656281 , 0.02580589, ..., 0.75234604, 0.20277543,\n       0.19624846], dtype=float32), array([-0.5197304 ,  1.1055717 , -1.209433  , ...,  0.46809494,\n        0.07551214,  0.19738182], dtype=float32), array([-0.30457735, -0.01781346, -0.04976458, ...,  0.2503006 ,\n        0.1079807 , -0.1670916 ], dtype=float32), array([ 0.28856224,  0.80391806, -0.5539745 , ...,  0.19786924,\n        0.10872646, -1.0419477 ], dtype=float32), array([-0.1922034 ,  1.3036606 ,  0.08310089, ...,  0.45075798,\n        0.0219218 , -0.68214726], dtype=float32), array([-0.20081896,  0.57885677, -0.06149111, ...,  0.3708208 ,\n       -0.27340204, -0.31997246], dtype=float32)])]\n"
    }
   ],
   "source": [
    "from bert_embedding import BertEmbedding\n",
    "import re\n",
    "import nltk\n",
    "import emoji\n",
    "from nltk.corpus import stopwords\n",
    "from nltk.stem import WordNetLemmatizer \n",
    "\n",
    "corpus = []\n",
    "\n",
    "for index, row in dataset.iterrows():\n",
    "    tweet = row['text']\n",
    "    corpus.append(tweet)\n",
    "\n",
    "bert = BertEmbedding(model='bert_24_1024_16', dataset_name='book_corpus_wiki_en_cased')\n",
    "results = bert(corpus)\n",
    "print(results)"
   ]
  },
  {
   "cell_type": "code",
   "execution_count": 3,
   "metadata": {},
   "outputs": [],
   "source": [
    "import numpy as np\n",
    "averaged = []\n",
    "for sent in results:\n",
    "    averaged.append(np.mean(sent[1], axis = 0, dtype=np.float64))\n",
    "\n",
    "corpus=averaged\n",
    "X=np.array(corpus)"
   ]
  },
  {
   "cell_type": "code",
   "execution_count": null,
   "metadata": {
    "tags": [
     "outputPrepend"
    ]
   },
   "outputs": [],
   "source": [
    "#TF-IDF\n",
    "from sklearn.feature_extraction.text import TfidfVectorizer\n",
    "\n",
    "tfidf_vectorizer=TfidfVectorizer(use_idf=True)\n",
    "tfidf_vectorizer_vectors=tfidf_vectorizer.fit_transform(corpus)\n",
    "\n",
    "print(tfidf_vectorizer_vectors)"
   ]
  },
  {
   "cell_type": "code",
   "execution_count": 4,
   "metadata": {},
   "outputs": [],
   "source": [
    "from sklearn.feature_extraction.text import CountVectorizer\n",
    "import numpy as np\n",
    "\n",
    "\n",
    "vectorizer = CountVectorizer(max_features = 1500)\n",
    "#X = vectorizer.fit_transform(corpus).toarray()\n",
    "#X = tfidf_vectorizer_vectors.toarray()\n",
    "y = []\n",
    "for index, row in dataset.iterrows():\n",
    "    y.append(int(row['level'][0]))\n",
    "    '''\n",
    "    if(int(row['level'][0])==3):\n",
    "        y.append(1) \n",
    "    elif(int(row['level'][0])>0):\n",
    "        y.append(1) \n",
    "    else:\n",
    "        y.append(0)\n",
    "    '''\n",
    "    \n",
    "    \n",
    "y = np.array(y)\n",
    "#print(vectorizer.get_feature_names())\n",
    "#print(type(X[0]), y.shape)"
   ]
  },
  {
   "cell_type": "code",
   "execution_count": null,
   "metadata": {
    "tags": [
     "outputPrepend",
     "outputPrepend",
     "outputPrepend",
     "outputPrepend",
     "outputPrepend",
     "outputPrepend",
     "outputPrepend",
     "outputPrepend",
     "outputPrepend",
     "outputPrepend",
     "outputPrepend",
     "outputPrepend",
     "outputPrepend",
     "outputPrepend",
     "outputPrepend",
     "outputPrepend",
     "outputPrepend",
     "outputPrepend",
     "outputPrepend",
     "outputPrepend",
     "outputPrepend",
     "outputPrepend",
     "outputPrepend",
     "outputPrepend",
     "outputPrepend",
     "outputPrepend",
     "outputPrepend",
     "outputPrepend",
     "outputPrepend",
     "outputPrepend",
     "outputPrepend",
     "outputPrepend",
     "outputPrepend",
     "outputPrepend",
     "outputPrepend",
     "outputPrepend",
     "outputPrepend",
     "outputPrepend",
     "outputPrepend",
     "outputPrepend",
     "outputPrepend",
     "outputPrepend",
     "outputPrepend",
     "outputPrepend",
     "outputPrepend",
     "outputPrepend",
     "outputPrepend",
     "outputPrepend",
     "outputPrepend",
     "outputPrepend",
     "outputPrepend",
     "outputPrepend",
     "outputPrepend",
     "outputPrepend"
    ]
   },
   "outputs": [],
   "source": [
    "'''\n",
    "from nltk.featstruct import FeatStruct\n",
    "\n",
    "X = []\n",
    "i=0\n",
    "\n",
    "for index, row in dataset.iterrows():\n",
    "    element= []\n",
    "    element.append(tfidf_vectorizer_vectors[i].toarray())\n",
    "    element.append(np.array([0 if i !=len(row['text']) else 1 for i in range(500)]))\n",
    "    element=np.array(element)\n",
    "    element=element.flatten()\n",
    "    X.append(element)\n",
    "    i+=1\n",
    "    fs1 = FeatStruct(tdidf=tfidf_vectorizer_vectors[i], size=[0 if i !=len(row['text']) else 1 for i in range(500)])\n",
    "    X.append(fs1)\n",
    "X=np.array(X)\n",
    "print(X.shape)\n",
    "'''"
   ]
  },
  {
   "cell_type": "code",
   "execution_count": 5,
   "metadata": {},
   "outputs": [
    {
     "output_type": "stream",
     "name": "stdout",
     "text": "(311, 1024) (311,)\n(78, 1024) (78,)\n"
    }
   ],
   "source": [
    "# Split dataset into training and test sets\n",
    "\n",
    "from sklearn.model_selection import train_test_split\n",
    "\n",
    "X_train, X_test, y_train, y_test = train_test_split(X, y, test_size = 0.20, random_state = 0)\n",
    "\n",
    "print(X_train.shape, y_train.shape)\n",
    "print(X_test.shape, y_test.shape)"
   ]
  },
  {
   "cell_type": "code",
   "execution_count": 6,
   "metadata": {},
   "outputs": [
    {
     "output_type": "stream",
     "name": "stdout",
     "text": "[[31  3 11  2]\n [ 8  1  4  0]\n [ 6  2  2  0]\n [ 2  1  5  0]]\nAccuracy:  0.4358974358974359\nPrecision:  0.43290043290043284\nRecall:  0.4358974358974359\nF1:  0.4301282051282051\n"
    }
   ],
   "source": [
    "# Naive Bayes\n",
    "\n",
    "from sklearn.naive_bayes import GaussianNB\n",
    "\n",
    "from sklearn.metrics import confusion_matrix\n",
    "from sklearn.metrics import accuracy_score\n",
    "from sklearn.metrics import precision_score\n",
    "from sklearn.metrics import recall_score\n",
    "from sklearn.metrics import f1_score\n",
    "\n",
    "classifier = GaussianNB()\n",
    "classifier.fit(X_train, y_train)\n",
    "y_pred = classifier.predict(X_test)\n",
    "\n",
    "print(confusion_matrix(y_test, y_pred))\n",
    "print('Accuracy: ', accuracy_score(y_test, y_pred))\n",
    "print('Precision: ', precision_score(y_test, y_pred, average='weighted'))\n",
    "print('Recall: ', recall_score(y_test, y_pred, average='weighted'))\n",
    "print('F1: ', f1_score(y_test, y_pred, average='weighted'))"
   ]
  },
  {
   "cell_type": "code",
   "execution_count": 7,
   "metadata": {},
   "outputs": [
    {
     "output_type": "stream",
     "name": "stdout",
     "text": "[[47  0  0  0]\n [13  0  0  0]\n [10  0  0  0]\n [ 8  0  0  0]]\nAccuracy:  0.6025641025641025\nPrecision:  0.36308349769888226\nRecall:  0.6025641025641025\nF1:  0.45312820512820506\n/home/joana/envs/python37/lib/python3.6/site-packages/sklearn/metrics/_classification.py:1272: UndefinedMetricWarning: Precision is ill-defined and being set to 0.0 in labels with no predicted samples. Use `zero_division` parameter to control this behavior.\n  _warn_prf(average, modifier, msg_start, len(result))\n"
    }
   ],
   "source": [
    "# SVM\n",
    "\n",
    "from sklearn.svm import SVC\n",
    "\n",
    "classifier = SVC()\n",
    "classifier.fit(X_train, y_train)\n",
    "y_pred = classifier.predict(X_test)\n",
    "\n",
    "print(confusion_matrix(y_test, y_pred))\n",
    "print('Accuracy: ', accuracy_score(y_test, y_pred))\n",
    "print('Precision: ', precision_score(y_test, y_pred, average='weighted'))\n",
    "print('Recall: ', recall_score(y_test, y_pred, average='weighted'))\n",
    "print('F1: ', f1_score(y_test, y_pred, average='weighted'))"
   ]
  },
  {
   "cell_type": "code",
   "execution_count": 8,
   "metadata": {},
   "outputs": [
    {
     "output_type": "stream",
     "name": "stdout",
     "text": "[[40  4  3  0]\n [ 8  2  3  0]\n [ 7  1  2  0]\n [ 5  1  2  0]]\nAccuracy:  0.5641025641025641\nPrecision:  0.46901709401709396\nRecall:  0.5641025641025641\nF1:  0.5079022742574144\n/home/joana/envs/python37/lib/python3.6/site-packages/sklearn/metrics/_classification.py:1272: UndefinedMetricWarning: Precision is ill-defined and being set to 0.0 in labels with no predicted samples. Use `zero_division` parameter to control this behavior.\n  _warn_prf(average, modifier, msg_start, len(result))\n"
    }
   ],
   "source": [
    "# Logistic Regression\n",
    "\n",
    "from sklearn.linear_model import LogisticRegression\n",
    "\n",
    "classifier = LogisticRegression(max_iter=1000)\n",
    "classifier.fit(X_train, y_train)\n",
    "y_pred = classifier.predict(X_test)\n",
    "\n",
    "print(confusion_matrix(y_test, y_pred))\n",
    "print('Accuracy: ', accuracy_score(y_test, y_pred))\n",
    "print('Precision: ', precision_score(y_test, y_pred, average='weighted'))\n",
    "print('Recall: ', recall_score(y_test, y_pred, average='weighted'))\n",
    "print('F1: ', f1_score(y_test, y_pred, average='weighted'))"
   ]
  },
  {
   "cell_type": "code",
   "execution_count": 12,
   "metadata": {},
   "outputs": [
    {
     "output_type": "stream",
     "name": "stdout",
     "text": "[[39  6  2  0]\n [11  2  0  0]\n [ 8  1  1  0]\n [ 6  1  1  0]]\nAccuracy:  0.5384615384615384\nPrecision:  0.43257211538461543\nRecall:  0.5384615384615384\nF1:  0.4707239489848186\n/home/joana/envs/python37/lib/python3.6/site-packages/sklearn/metrics/_classification.py:1272: UndefinedMetricWarning: Precision is ill-defined and being set to 0.0 in labels with no predicted samples. Use `zero_division` parameter to control this behavior.\n  _warn_prf(average, modifier, msg_start, len(result))\n"
    }
   ],
   "source": [
    "# SGDC classifier\n",
    "\n",
    "from sklearn.linear_model import SGDClassifier\n",
    "\n",
    "classifier = SGDClassifier()\n",
    "classifier.fit(X_train, y_train)\n",
    "y_pred = classifier.predict(X_test)\n",
    "\n",
    "print(confusion_matrix(y_test, y_pred))\n",
    "print('Accuracy: ', accuracy_score(y_test, y_pred))\n",
    "print('Precision: ', precision_score(y_test, y_pred, average='weighted'))\n",
    "print('Recall: ', recall_score(y_test, y_pred, average='weighted'))\n",
    "print('F1: ', f1_score(y_test, y_pred, average='weighted'))"
   ]
  },
  {
   "cell_type": "code",
   "execution_count": null,
   "metadata": {},
   "outputs": [],
   "source": [
    "from sklearn.neural_network import MLPClassifier\n",
    "\n",
    "classifier = MLPClassifier()\n",
    "classifier.fit(X_train, y_train)\n",
    "y_pred = classifier.predict(X_test)\n",
    "\n",
    "print(confusion_matrix(y_test, y_pred))\n",
    "print('Accuracy: ', accuracy_score(y_test, y_pred))\n",
    "print('Precision: ', precision_score(y_test, y_pred, average='weighted'))\n",
    "print('Recall: ', recall_score(y_test, y_pred, average='weighted'))\n",
    "print('F1: ', f1_score(y_test, y_pred, average='weighted'))"
   ]
  },
  {
   "cell_type": "code",
   "execution_count": 9,
   "metadata": {},
   "outputs": [
    {
     "output_type": "stream",
     "name": "stdout",
     "text": "[[39  6  2  0]\n [ 8  3  2  0]\n [ 7  0  3  0]\n [ 5  1  2  0]]\nAccuracy:  0.5769230769230769\nPrecision:  0.4910401274808055\nRecall:  0.5769230769230769\nF1:  0.5273603172441736\n/home/joana/envs/python37/lib/python3.6/site-packages/sklearn/metrics/_classification.py:1272: UndefinedMetricWarning: Precision is ill-defined and being set to 0.0 in labels with no predicted samples. Use `zero_division` parameter to control this behavior.\n  _warn_prf(average, modifier, msg_start, len(result))\n"
    }
   ],
   "source": [
    "# Perceptron\n",
    "from sklearn.linear_model import Perceptron\n",
    "\n",
    "classifier = Perceptron() \n",
    "classifier.fit(X_train, y_train) \n",
    "y_pred = classifier.predict(X_test)\n",
    "\n",
    "print(confusion_matrix(y_test, y_pred)) \n",
    "print('Accuracy: ', accuracy_score(y_test, y_pred)) \n",
    "print('Precision: ', precision_score(y_test, y_pred, average='weighted')) \n",
    "print('Recall: ', recall_score(y_test, y_pred, average='weighted')) \n",
    "print('F1: ', f1_score(y_test, y_pred, average='weighted'))"
   ]
  },
  {
   "cell_type": "code",
   "execution_count": 10,
   "metadata": {},
   "outputs": [
    {
     "output_type": "stream",
     "name": "stdout",
     "text": "[[23 10 13  1]\n [ 9  4  0  0]\n [ 7  2  1  0]\n [ 4  3  1  0]]\nAccuracy:  0.358974358974359\nPrecision:  0.3659364571237276\nRecall:  0.358974358974359\nF1:  0.35990028490028486\n"
    }
   ],
   "source": [
    "# Decision Tree\n",
    "\n",
    "from sklearn.tree import DecisionTreeClassifier\n",
    "\n",
    "classifier = DecisionTreeClassifier()\n",
    "classifier.fit(X_train, y_train)\n",
    "y_pred = classifier.predict(X_test)\n",
    "\n",
    "print(confusion_matrix(y_test, y_pred))\n",
    "print('Accuracy: ', accuracy_score(y_test, y_pred))\n",
    "print('Precision: ', precision_score(y_test, y_pred, average='weighted'))\n",
    "print('Recall: ', recall_score(y_test, y_pred, average='weighted'))\n",
    "print('F1: ', f1_score(y_test, y_pred, average='weighted'))"
   ]
  },
  {
   "cell_type": "code",
   "execution_count": 11,
   "metadata": {},
   "outputs": [
    {
     "output_type": "stream",
     "name": "stdout",
     "text": "[[47  0  0  0]\n [13  0  0  0]\n [10  0  0  0]\n [ 8  0  0  0]]\nAccuracy:  0.6025641025641025\nPrecision:  0.36308349769888226\nRecall:  0.6025641025641025\nF1:  0.45312820512820506\n/home/joana/envs/python37/lib/python3.6/site-packages/sklearn/metrics/_classification.py:1272: UndefinedMetricWarning: Precision is ill-defined and being set to 0.0 in labels with no predicted samples. Use `zero_division` parameter to control this behavior.\n  _warn_prf(average, modifier, msg_start, len(result))\n"
    }
   ],
   "source": [
    "# Random Forest\n",
    "\n",
    "from sklearn.ensemble import RandomForestClassifier\n",
    "\n",
    "classifier = RandomForestClassifier()\n",
    "classifier.fit(X_train, y_train)\n",
    "y_pred = classifier.predict(X_test)\n",
    "\n",
    "print(confusion_matrix(y_test, y_pred))\n",
    "print('Accuracy: ', accuracy_score(y_test, y_pred))\n",
    "print('Precision: ', precision_score(y_test, y_pred, average='weighted'))\n",
    "print('Recall: ', recall_score(y_test, y_pred, average='weighted'))\n",
    "print('F1: ', f1_score(y_test, y_pred, average='weighted'))"
   ]
  },
  {
   "cell_type": "code",
   "execution_count": null,
   "metadata": {},
   "outputs": [],
   "source": [
    "# Simple test\n",
    "\n",
    "import os\n",
    "import numpy as np\n",
    "\n",
    "tweet = input(\"Enter tweet: \")\n",
    "tweet = re.sub('[^a-zA-Z]', ' ', rev).split()\n",
    "tweet = ' '.join([ps.stem(w) for w in tweet])\n",
    "X = vectorizer.transform([tweet]).toarray()\n",
    "\n",
    "print(X.shape)\n",
    "print(X)\n",
    "\n",
    "print(\"Sentiment level: \", classifier.predict(X))"
   ]
  },
  {
   "cell_type": "code",
   "execution_count": null,
   "metadata": {},
   "outputs": [],
   "source": []
  }
 ],
 "metadata": {
  "kernelspec": {
   "display_name": "Python 3.6.9 64-bit ('python37': venv)",
   "language": "python",
   "name": "python36964bitpython37venvb1b630360d0f4ea08bfe0f6fcf349387"
  },
  "language_info": {
   "codemirror_mode": {
    "name": "ipython",
    "version": 3
   },
   "file_extension": ".py",
   "mimetype": "text/x-python",
   "name": "python",
   "nbconvert_exporter": "python",
   "pygments_lexer": "ipython3",
   "version": "3.6.9-final"
  }
 },
 "nbformat": 4,
 "nbformat_minor": 4
}