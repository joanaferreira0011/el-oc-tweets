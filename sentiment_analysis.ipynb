{
 "cells": [
  {
   "cell_type": "code",
   "execution_count": 61,
   "metadata": {},
   "outputs": [
    {
     "output_type": "stream",
     "name": "stdout",
     "text": "date                                               text  \\\n0    2018-En-01406  We have the opportunity to move away from the ...   \n1    2018-En-00716  @badpostyoongi I know for a fact they'll eithe...   \n2    2018-En-02394  @LeahRemini  A 'religion' that pushes people t...   \n3    2018-En-00825  You could have over a hundred million follower...   \n4    2018-En-03817  @elebelfiore Isn't it always about control and...   \n..             ...                                                ...   \n392  2018-En-00994  @JeffBezos @amazon Who can I talk to about bei...   \n393  2018-En-03770       Brown envelopes can induce panic. #posttruth   \n394  2018-En-02331  I wont rt things that might offend your faves ...   \n395  2018-En-04002  and after i got home in such a horrible mood m...   \n396  2018-En-02112                    hit by a sudden wave of sadness   \n\n     emotion                                          level  \n0    sadness                  0: no sadness can be inferred  \n1    sadness                  0: no sadness can be inferred  \n2    sadness  2: moderate amount of sadness can be inferred  \n3    sadness      3: high amount of sadness can be inferred  \n4    sadness                  0: no sadness can be inferred  \n..       ...                                            ...  \n392  sadness       1: low amount of sadness can be inferred  \n393  sadness       1: low amount of sadness can be inferred  \n394  sadness                  0: no sadness can be inferred  \n395  sadness  2: moderate amount of sadness can be inferred  \n396  sadness      3: high amount of sadness can be inferred  \n\n[397 rows x 4 columns]\n"
    }
   ],
   "source": [
    "import pandas as pd\n",
    "\n",
    "# Importing the dataset\n",
    "dataset = pd.read_csv('2018-EI-oc-En-sadness-dev.txt', sep=\"\\t\", header=None, skiprows=1)\n",
    "dataset.columns = ['date', 'text', 'emotion', 'level']\n",
    "\n",
    "print(dataset)"
   ]
  },
  {
   "cell_type": "code",
   "execution_count": 62,
   "metadata": {
    "tags": [
     "outputPrepend"
    ]
   },
   "outputs": [
    {
     "output_type": "stream",
     "name": "stdout",
     "text": " #solareclipse2017 #weird #annoy', '@livedart r.i.p friend, cant get head round this, #devast x', 'If go nurse, learn nice patient person, jesu 🙃', \"work go kill 5 o'clock nowher near 😟\", 'total scare upcom result .', \"@iaindal @lbc the word wors 'moist' opinion 'scrape'. #ugh #shudder\", '@timmyldn look dreadful... 👀', '#teamchristin bc tana done provok tweet shadi shit tri hard bitch beg fight', '@620wtmj serious @620wtmj !? thi news you?!? #sad \\\\n\\\\nwhi focu import issues??', '@nitashakaul @snehakaul2kaul beauti dear, thanks,everybodi know benefit india &amp; goi done terror attack', 'lot univers activ discourag even one part-tim job neg impact studies--', '@keithrothfu your silence=complicity. obvious problem russian interference. #sad #russianhack #treason', 'wanna sober u', \"'we need something. someth must done!!!!!'\\\\n\\\\nyour anxieti amusing. noth done. despair.\", \"@theview joy comedian. she' bulli fat shame governor. great exampl set grandson.\", \"[ @thechicmystiqu ] — hurt badli can't leav like that. angri heartless. ]\\\\n\\\\ni promis i'll back, —\", \"i'v got builder offic I game make. perhap ill start sketch next game... #gamedev #indiedev\", \"' can't even tell u lie I felt like u special, till I realiz wassup left, got u feel dread '\", '@mikeandmik @buster_espn get time.. @oriol buyer seller go do!!?! #panic', 'I like #glow #dark #fidgetspinner. not glow dark neither. It feel lighter smoother other', 'damn I lost key I forgot get garag open', 'shame cashback @mbna @amexuk credit card come end. I use look forward end year bonus. sad really. #cashback', '@joycemey @mrsglessman #day #vengeanc #god; To #comfort #mourn, To consol #mourn #zion, To give [4/7]', 'when duan allman died, I learn appreci stevi ray vaughan. true story. #blue #legend', 'made mind \\\\nmake new start', 'that banish sadness, way I am? #somber', 'nomor drink 😌😂 #seriou', '🇿🇦ha becom place peopl even timid us bay blood around everi corner.', 'We replac #loss #hope, #hate #love, #pain #gain, close window #bitter open door #faith. #tryit', \"armi see work hard keep bt social 50 chart!\\\\ndon't feel discouraged, still amaz bt #2 promo 💕\", 'okay I serious know whole twitter thing work #lost', 'happi play tgt team once. thought would anoth chanc sadli no. rest In peac dear friend. :(', 'except eclips make believ omnisci forc #dissapoint', '+ cant get tell offend', \"@juliahb1 @talkradio cultur &amp; languag alreadi protected.\\\\n£ 'promot welsh' better spent tourism dread school ed record\", '@andyfleming83 bastard squirrels. 😡', \"#louiselinton - hater gonna hate keep your#fabul self they'll keep #miser\", '@kicchasudeep No word sir... thank concern..', 'pleas stop ruin depress meme posit optim', '#worri never rob tomorrow #sorrow; sap today #strength - A. J. crown #faith #posit #motiv', 'what amelia want?! sarah v grate #cbb', \"i'm sorri also...fuck #currentfeel #anger #bpd #eupd #borderlin #mentalhealth #anxieti #depress #confus\", 'peopl alway afraid stodgi squar would kill rock roll, legitim threat ever child choruses.', \"I must goblin rain everi time i'm effin sad. lol\", 'wtf shawti ass 😤', '@jamesmb @donaldjtrumpjr hi knife clean. He tough enough fire gun, tough enough get hand dirty. #aw', \"@elegantlywast @chelseaclinton are new kennedy' american politics.. sadli mom daughter charm toe nail\", 'probabl watch sad bt video bc im sad :( iwannacryy :(\\\\n halppp', 'just paid arsehol coupl new found glori ticket gonna great start birthday weekend 👊', 'Oh @bentleysystem hast thou done thi configurations? #despair', \"I watch video took troye' concert last year happi littl pill im cri miss @troyesivan 😭\", 'what miser ass weather 😭 dark gloomi #depress #weekoff #wheresthesun', '-c- disarm equip suspicion potenti accomplic anni leonhart.', '#americasgottal live show mani technic fault #dishearten', '@donaldjtrumpjr think oliv north defens insul @potu make @realdonaldtrump look inept! #nytim', \"i'm kind tire everyth #summer #heat #bicycl #videogam #bookwrit #nothavingacomput\", 'everyth I order onlin come look like piec shit 😤', \"can't drink day u start morn .. drake get 😛\", 'MY power goe out and short out MY xbox!! had IT sinc day 1 launch OF cours IT break ON MY birtday! #birthday #xbox #sad', '@professorf @mediait @law_newz childish temper #tantrum left left. :)', 'outsid basic becom horror movi gypsi moth take world flit aggress about.\\\\n\\\\n#creaturedoublefeatur', '@jackruff4 they horribl pud here. butterscotch pud mondays, dreadful. #fring', \"can't believ i'v lost phone get home\", '@thatradiogeek that tremend thing wake read, man. glad hear it, need way peopl help this.', 'brighten gloomi day @siennaxoffici spray tan, tan suit everybody! #spraytan #tan #summer #godalm #hurtmor', 'time #burst #burstcoin fork??', '@eben4u #stay you...mak appreci love worshiping....al want worship you!!', '@aaron_0424 @marquezmark06 thi seriou paranorm stuff go on.', \"If sit back, watch &amp; listen everi .@thedemocrat &amp; .@dnc member, quickli learn #victimhood, #racism, &amp; #hatred. i'm #woke\", 'I mean, I want goat faint... I want see goat faint. #eclips', \"At point I can't tell I follow peopl polit twitter I need new friends. #wheresthefunni #depress\", 'realli want mom go back home 😢 😢 😢 😢 😢 😢 😢 #gut #cri #miser #whi', 'wa huge fan @ryanair last flight horrific. #rude #poorservic #nostock etc etc etc #dissapoint', 'africa uniqu tremend problem war, overpopulation, starvat tribal make move africa forward hard.', 'Do presum rich poor bring happi - santosh kalwar #quot #mentalhealth #psycholog #depress #anxieti', 'coffe floor; and soul grew furiou still broken little,', '@jaassiieeee I fall dark side😂😂', '@emmajckson awe thank (,:', '@bbcbreak I mistrust medic profession. the cover import patients.', 'look upon mine #afflict &amp; \\u200b\\u200b\\u200b#pain\\u200b; &amp; forgiv sins. -p 25:18', 'caleb nightmar zombies. I dream freedom.......', \"the next time I go lago I gate crash somebody' owamb dress lace gele eat amala shake waist😑\", \"damn i'm tire hell I never get day week anymor 😭 I wanna call bad lil 60 hr sound good.\", 'A bih lock shit. #depress', 'how feel @snapchat new featur #snapmap 👎👍❓ #twitterpol #poll #vote #poll #snapchat #twitter #tech #technolog', 'So I buy whole new comput', \"@who_cares_nvm the destroy memori goal ect might work. Or zapper thingi like men black. Or dumbledore' pensive.\", '@mrjamesob @lbc 😂 snowflak random funni man never dull moment brilliant', 'good morn happi tuesday! I hope terrif day! enjoy ton 😃', \"i'v come conclus onlin world serious 'fuck up' there' absolut word describ #bleak #grim\", '@rainbow6gam felt guilt play game. #horribl #rainbowsixsieg', \"imagin suffer chronic depress told 'you unattract chip shoulder' #dwp #wrag #www.gov.uk #mentalhealth\", \"@realdonaldtrump you'v spent time energi protect michael flynn son. you'r coward aw parent.\", \"@thealexpeac not bad all, think may come back haunt you'\", 'the sound rain pretti peac annoy mood 😅', '3 half hour 😤 #exo', \"jame clapper 'scari disturbing'. #25thamendmentnow #impeachtrump #terrifi #nuclearcod #godhelpu\", '@unesco rememb spread #hatr #fakenew internet. Do abus #hashtag10 spread #arabnationalism!', 'leviticu 19:14\\\\nyou shall curs #deaf put stumbl #block #blind, shall #fear #god: I [1/2]', 'I never thought I would say I realli miss todd 😥', 'imagin mani ksone cri right get ticket 😭 meanwhile, ison dont even get chanc go war ticket 😭', \"can't talk To An incompet person. goe In one ear out the other. #irrit #nopoint #massiveeyerol\", 'one moron drive overs tonka truck big flag bed back forth blare countri music. 😐 #disappoint', 'understand ppl save wasp , next chanc lil dude get gnna sting ur grandma', \"@sophieathertonn @lillynewtonx that' actual awful! you treat get home tho!!\", 'count you, queensland. #stateoforigin #bronco #maroon #blue #nswblue #qld', '@justicewillett lord, understand tragedy. Do you best: bring good grom comfort mourn. amen', \"all makeup go sale....\\\\nbut I ain't got funds. #heartbreak\", '@uzalu_ @veeh_ro what joyless cunt.', 'everybodi seem sp serious?', 'the blackest abyss despair, alonzo', '@brettkeebl I guess never. @smartassunit #worri', '#world know differ #drunk #sober? one word. #coherence.', \"eeeeekkkk!!!!\\\\nproduct launch 😍✋💖\\\\ni'm liter b•u•z•z•i•n•g!!!\\\\nsingl sachet 😍😍\\\\n \\\\nmessag yours! 😜🙆💜#loveyourlifestyl #shake\", '@3lectric5heep well must sting @cnn ?', 'I post snap dad, someon thought grandmoth #cri', 'last sunday youtub glitch make lose 20 sub heartbreak channel size! nearli 1K though #1ksub #youtub soon 😀', \"nah governor call someon bum &amp; love call 'communist montclair' ? 😂 #cri\", \"too much caffeine, i'm dyyyying. #jitter #shake #paranoia #heartbeat1000 ☕💔\", '@kitchenaidusa I spent $500 mixer, yet dough hook chip dough. I buy new one thing happens. #unhappi', 'jeong su easi get along everybodi like intimid him.. I like him.. remind seunghoon', 'post trnsmt blue', '@bravotv way watch nyc million dollar list &amp; filter @fredrikeklundni out episodes? #primadonna #duckfac #tantrum', 'My new favourit #film shadow doubt #okja #beautiful #funni #sad #emot #real #netflix #mustwatch #now', \"it' beauti pout. c:\", '@skyuk impress custom support. forc custom use fb chat sms! veri slow. issu get sort', '@weareelektron sadli #digitakt seem stock europe. Do know european onlin store it?', \"bewar wrath angry, frustrated, #agil grandma network. 👵🏼😡 i'm sayin'. #objectlesson\", \"@cmdr_hadfield cnn' wolf blitzer call american astronaut correct him? #dissapoint\", \"did men call shi mean it? So I reassur i'm make sure he' good invest alla 🙄\", 'she obvious move music @robertcrayband tonight want share love. #blue #concert', 'girl masturb too,boy cri too!\\\\n#girl # boy #cri #masturb', \"@angrydwarf9 @carolinesandal It ruin frig night night 9pm. mr love it, i'v earli bed month. #dread\", 'total regret sign @sprintcar @sprint', '@roflcrit @nbtdilli @sudamanbt ,bjp mcd busi collect suvidha sulk unauthoris coloni', 'russia stori infuri trump today. media otherwis would give tongu bath fall isi mosul + al-baghdadi death.', \"and i'm realli piss fuck I good job keep kid well I like see sick sad.\", 'hey @nhsengland imagin blue light hospit unabl breath dump cubicl seen 4 hour #horrend', 'send love &amp; prayer famili @usmc marin lost c-130 crash mississippi. may lord help abat grief sorrow', 'I like ito manga end bleak hopeless endings, way make look like protagonist lost', \"not sure tequila shot famili birthday meal best idea i'v ever #grim\", 'nigga write talk bout I dreamt you, cool I hope I haunt nightmar', '@scottadamssay broke #snap great analysi #cnbc', 'you would think book holiday 2 sat next bloodi plane #fume 😡@thomsonholiday', 'how come quiet well behav cat dog ride plane tini bag scream small human roam free? #outrag #teampet', '*on lighter note*\\\\ngg, nkaisseri &amp; total man? the rate jubile lose votes!! 😟', \"still #devast #sad #tariq' #tariql channel #professorblacktruth well. #youtubefail #epicfail! #tariqnashe 😢\", \"that absolut two worst nation anthem singer i'v ever heard, screw word #aw\", \"i'm soooo annoyed. wait start morning.\", 'hear song phone glu ear like singer spoke me... #mad #mad hahah', '@nro @acosta @cnn @realdonaldtrump rememb nro gave cnn grief relentless HC email crusade? either.', \"#depress today bitter sweet watch kid go back school made realli miss babies. i'm broke #backtoschool2017\", '@o_pebbl not one sadly! 😪', 'My best friend drive first time car #terrifi', 'when know go next.. life..🤔 #lost', '@lovemyffajacket facetim - still annoy 😂', 'migrain hangov worst thing ever 😣 #burst', \"you certain #arrogance, I think that' fine, never lose #respect others.\", \"it' rain everi day sinc june 30. that' 13 #dreary, #soggi day row. #auckland\", 'alright alex I parti boy neighbor blast music', 'be @ #work #sober 🤦🏽\\u200d♂️ I', 'shoot ever, make mistak ever I jump pool shark long time ago. #relentless *#resili', 'aleesha—kitchen sink, twenti one pilot (!!)', '@puddlespityp made happi woman! thx P casey. sigh. #worththewait #cri #beyootifull', '5,000 new US #citizen swear now! #tear #congratul', '@vivaonlin Oh schade 🙁', 'saw first larsen trap today stress magpie. I never ever want see #angri #distress #wildlif', 'theme week: ask lord strength &amp; perspect persever #integr effort, despit #dishearten &amp; disappointed.', \"@allyiahsfac you'r page full make up. it' valid question. but probabl prefer smash dash\", '@hollloman @nessa_babbbi @ajvannozzi97 As half set twin I resent that!', '@cnn @newday If #trump #whitehous held account actions,what preced set futur presidencies. #nightmar', 'that moment look back realis #selfish #horribl #judgement person. #feelingasham', '@statedept #that certainli bode well #afghan woman girl #bad option', 'god match dull #wimbledon', '@alicet120 @shaney_waney1 @shaney_waney1 u horribl non gender binari boy go fangirl mediocr singer cant even support', 'listen ... golden brown give life ... hell feet get dark 😓', 'got woken road sweeper I tri sleep', '@activehour I need someon repli back immediately. I happi get time respons app! #help', \"@silverstein 13th time see guy today cancel meet greet storm. we'r soaked.. 😡 #dissapoint\", '@johnmay No dsm shows. #sad', '@awardsdaili look way. I want see Q go handl tate murder. #shudder', '@fabianiswailea no. No not.', '@argos_onlin custom servic dreadful, phone bill huge get pass person 2 person keep take money card #idiot', \"If u #smile much😀\\\\nu get frown lines,\\\\nif u #cri much😣 \\\\nu get eye wrinkles,\\\\n\\\\n🔂 laugh&amp;cry\\\\n\\\\n ...it' #life 💗\\\\n\\\\nhave great day\\\\n\\\\n🍯🐝'\", \"woke feel fresh clear mind. that' never happen before.\\\\n#morn #sober\", 'By way...in case didnt know...joshua goin tonight...to take trash play blue ever us 6.75', 'julia I final go abl meet ptx #cri', \"it' strang juxtaposit emotions. A sens euphoria sens despair.\", 'So disappoint spend £50 outfit meet boy #noselfcontrol #nervou', '@f1 whi announc late, hard make manchest organis day off. #sad', 'how shit depress weather wish I travel world live', \"okay @bts_twt fun chang layout back someth goofi domest usual pl i'm intimid rn\", \"israel' recent overtur toward west africa seem attract element suspicion...an unnecessari suspicion though.\", '@uber disappoint support respond email!! #bad #uber #servic', 'wrap In thi burrito, gotta sweat thi all out 😰', \"I think i'll etern irrit lit teacher 😂\", '@joshuarozenberg Oh dear! #tantrum', '@virtualalien #frighten thing life\\\\n\\\\n#beyondthesphereofreasonabledoubt', '#worry, #doubt, #fear #despair enemi slowli bring us ground turn us dust die.', '@hdfcergog yr custom care exec r unabl pull inform l&amp;t insur #horribl #servic #bewar #renew', 'freakin a...i delet half episod bip accid #bachelorinparadis', 'i’m glad i’m like sad peopl onlin gossip bulli other entertain life.', 'We need littl learn live happili - michel de montaign #quot #philosophi #wisdom #wiseword #mentalhealth #psycholog #anxieti', '@mysarazaman Ya make selfish dishearten', \"quit possibl worst anthem i'v ever heard pro sport singers. I wish I deaf. #asg2017 #mlb #mlballstargam\", \"My dog stop bark i'm eight rage headach\", \"@thealicerobert @fryrsquar @adamrutherford they'v obvious never tri 'repressing' red head #fieri\", '@rosieblossoms_ what miser piec shit 😡', 'My boyfriend whole world 😭', \"smile we'r close tear\", 'paul ehrlich said human threat life. such great news start day. If I could blush I would.', '@wda_punish @sgtdangercow @battlefield I think too. \\\\ncasual audienc particularli unhappi server admin server rules.', \"the way i'm alway twitter work littl alarm 🤦🏾\\u200d♀️\", 'each everi time I log websit view lindsey vonn pic I #sadden cours culture.', \"@uksportszon In words, I like result poll i'm pack poll &amp; take home I pout. 😂😂😻 #bbn\", 'depress sucks😔', 'A programmer’ wisdom understand differ get program run runnabl program. #puppi', '@devlinjim @sophielong01 what daniel 7:9? - throne like fieri flame, wheel burn fire.', \"@gemmaannestyl @fabicelolli america (i think) i'm #upset #hurt\", \"someone' nick lunch fridg work!! roast dinner well! #fume\", 'To #wyoming: beauti state road signs, lack thereof, terrible. #lost', 'man I feel like crap today 😰', \"If god plan would'v made alreadi #discourag\", 'chelsea unit must furiou', \"@kylegriffin1 it' disgusting. #sick\", 'chopper &lt;&lt;dammit! just sink already!&gt;&gt;', '@becofthekop someth ignor then. sound dreadful.', \"@ffigurefbust how so? i'v think get done given frighten.\", 'O, melancholi catacomb quickli wander rue morgue, madman!', 'lost appetit past 5 day I swear I alreadi lost 3 pound #depress #at #least #i #will #be #skinni #for #pride #weekend', \"tonight' run.... #restless\", \"been work even 4 hour i'v thrown boil tea everywhere, smash mug, smash milk jug slice finger open😐\", \"@loveisland #loveisand next time there' dump get #olivia there! she' #dread good chri\", 'thi prison aw gloomy. would mind I put ribbon bars?', 'threaten leav girl shake wet spot ....', '@thomasewood I would like hear podcast go refut entir article. extra indign please.', \"@chrisyour don't sad, ultim appar support complet mostli work :-)\", \"I click download pc. messag say 'thank download #itun \\\\nso, where' download?! #frustrat\", \"didn't know @chickfila cow day thing end 7:30 show 30 min late look like cow sandwich #sad 😅😅😅\", 'I woke still hardli believ happen last night 😰', '@borisjohnson unhappi cost leav EU ? If publish letter outlin reason stay instead. idiot.', \"@del_krushn I knw temper paaa lol chill dear piss waii I els worri u saaa i'm sorri 😫\", \"i'm back twitter! #madden #madden18 #maddenmobil #ea #nfl #espn #packer\", '@skyuk I put hold 20 minut till I hung up. #not happi #terribleservic #unhappi @virginmedia I stayed...', '@smolchika ya kind depress think it\\\\n!', '@the_lucbomb @etikawnetwork etika polneraff long lost brother confirm', 'pleas ruin party, @nswrl. #origin #blue', 'get feel @eurosport_uk @itvcycl might review show stage full. poor @robhatchtv @nedboult 😴😴😴 😉 #dull', 'when started? all depress &amp; anxieti shits?al suicid thoughts?al bad thought tht hug night?', 'blah blah blah kyrie, it, etc. @cjc9boss leav boston real news I #devastated! #celtic #fave #someonegetmeajerseyteeasap', 'If build resent silenc realli anyon favor', \"can't stand lad put middl finger pic\", '@michaelsloan87 @skyfootbal the disappoint actual new club sponsor! 😂', 'dirti chai tea rumchata hit spot gloomi tuesday morning. 😊', '@jihnwi u liter name us word close prostitut ok oomf...... 😰', '@1ncamera @weehug @davidyoungpa @pa stupid part proud cultur identity. 😠', '#hopkinsvil #ki #total #eclips #capit #world #august 2017 #danc n #moon #dark #eclipse2017 #eclipseacrossamerica #edgar #cayc', 'B4 I couldnt get bed look mirror thankful4al support I reciev imwakinguphappynot dread theday', \"I love see @yeahlizzi remind i'm one miser work 😅\", 'hmm...look like one @tampax avail respond. it like wait #doomsday reply. that #burn question #answer', \"@morninggloria I came 'damn boy' joke stay great actual job 👍🏾\", 'coulda sworn interview with A vampire. hmmm......mandela effect anyone? \\\\n#interviewwithavampir #anneric #book #horror #ilovevamp', 'hey, everyth gonna okay, may god kiss weari face. everyth gonna alright, let peac tonight', '#twitter day massiv critic debat peopl like #annoy #depress #dull 😑', 'lost without mom 😢 plu tired, sick full cold anoth day paradise..... #upset #unwel #missyoumommybear 💖💖', '@rachelkennedy84 @callummay @ned_donovan @jeyylow @jimwaterson @dat can bell ring incens consecration?', 'whi fuck saw game throne spoiler snapchat? some OF US havent saw IT yet 🖕🏻🖕🏻🖕🏻🖕🏻🖕🏻 #arsehol', '@jeffbezo @amazon who I talk termin answer paid hour I worked? erc answer', 'brown envelop induc panic. #posttruth', \"I wont rt thing might offend fave bc i'm better\", 'got home horribl mood mom piss moment step feet hous realli almost go', 'hit sudden wave sad']\n"
    }
   ],
   "source": [
    "# Cleaning the text\n",
    "\n",
    "import re\n",
    "import nltk\n",
    "from nltk.stem.porter import PorterStemmer\n",
    "from nltk.corpus import stopwords\n",
    "\n",
    "corpus = []\n",
    "ps = PorterStemmer()\n",
    "\n",
    "for index, row in dataset.iterrows():\n",
    "    tweet = row['text']\n",
    "    tweet = tweet.split()\n",
    "    # stemming and stop word removal\n",
    "    tweet = ' '.join([ps.stem(w) for w in tweet if not w in set(stopwords.words('english'))])\n",
    "    corpus.append(tweet)\n",
    "\n",
    "print(corpus)"
   ]
  },
  {
   "cell_type": "code",
   "execution_count": 63,
   "metadata": {},
   "outputs": [
    {
     "output_type": "stream",
     "name": "stdout",
     "text": "['00', '20', '25', '30', '50', '500', '620wtmj', 'absolut', 'act', 'actual', 'afraid', 'africa', 'ago', 'al', 'alarm', 'alas', 'aleesha', 'alex', 'alicet120', 'all', 'allman', 'allyiahsfac', 'almost', 'along', 'alonzo', 'alot', 'alreadi', 'already', 'alright', 'also', 'alway', 'am', 'amala', 'amaz', 'amazon', 'amelia', 'amen', 'american', 'amp', 'an', 'and', 'anger', 'angri', 'annoy', 'anoth', 'answer', 'anthem', 'anxieti', 'anyon', 'appar', 'appear', 'appreci', 'are', 'armi', 'around', 'arsehol', 'ass', 'at', 'aw', 'away', 'awful', 'back', 'bad', 'bc', 'be', 'beauti', 'becom', 'bed', 'believ', 'best', 'better', 'bewar', 'big', 'birthday', 'bitter', 'blah', 'bleak', 'blue', 'book', 'boy', 'bring', 'bro', 'broke', 'broken', 'brown', 'bt', 'build', 'bulli', 'bum', 'burn', 'burrito', 'burst', 'burstcoin', 'busi', 'buster_espn', 'but', 'butterscotch', 'buy', 'buyer', 'bxchpls03', 'by', 'caffeine', 'caleb', 'call', 'calls', 'callummay', 'came', 'can', 'cancel', 'cant', 'cantshakethi', 'capit', 'car', 'card', 'care', 'carolinesandal', 'cars', 'case', 'casey', 'cashback', 'cat', 'catacomb', 'cayc', 'cbb', 'cdl', 'celtic', 'certain', 'certainli', 'cex', 'chaey', 'chai', 'challeng', 'chan_lfc10', 'chanc', 'chang', 'change', 'changer', 'channel', 'character', 'charm', 'chart', 'chat', 'chatti', 'chelsea', 'chelseaclinton', 'chelseanews4y', 'chickfila', 'child', 'childish', 'children', 'chill', 'chip', 'chopper', 'choruses', 'chri', 'chrisyour', 'chronic', 'cindy', 'citizen', 'cjc9boss', 'clapper', 'clean', 'clear', 'click', 'clock', 'close', 'clouds', 'club', 'cmdr_hadfield', 'cnbc', 'cnn', 'coffe', 'coherence', 'cold', 'collect', 'coloni', 'come', 'comedian', 'comfort', 'commit', 'communist', 'complain', 'complet', 'complicity', 'comput', 'concern', 'concert', 'conclus', 'configurations', 'confirm', 'confus', 'congratul', 'consecration', 'consequ', 'consol', 'consult', 'control', 'cool', 'corner', 'correct', 'cost', 'couch', 'could', 'coulda', 'couldnt', 'count', 'countri', 'coupl', 'cours', 'cover', 'cow', 'coward', 'crabb', 'crap', 'crash', 'creaturedoublefeatur', 'credit', 'crew', 'cri', 'cricketers', 'critic', 'crow', 'crown', 'cruel', 'crusade', 'crush', 'cry', 'cta', 'ctafail', 'cubicl', 'cultiv', 'cultur', 'culture', 'cunt', 'currentfeel', 'curs', 'custom', 'cut', 'da', 'dad', 'damilolaourlovedboy', 'dammit', 'damn', 'danc', 'daniel', 'danni', 'dark', 'darker', 'dash', 'dat', 'datelinesb', 'daughter', 'davido', 'davidyoungpa', 'day', 'days', 'de', 'deadlinedayl', 'deaf', 'deal', 'dear', 'dearli', 'death', 'debat', 'decad', 'decision', 'deepli', 'defens', 'definit', 'del_krushn', 'delay', 'delet', 'deliveri', 'delta', 'depress', 'describ', 'despair', 'despit', 'destroy', 'devast', 'devastated', 'devlinjim', 'dey', 'did', 'didn', 'didnt', 'die', 'died', 'differ', 'digit', 'digitakt', 'dinner', 'dirti', 'dirty', 'dirty_becca69', 'disapoint', 'disappoint', 'disappointed', 'disarm', 'discount', 'discourag', 'discouraged', 'disgusting', 'dishearten', 'dismal', 'dissapoint', 'distress', 'disturbing', 'dm', 'dmme', 'dnc', 'do', 'doe', 'doesn', 'dog', 'dollar', 'domest', 'domin', 'don', 'donaldjtrumpjr', 'done', 'dont', 'doomsday', 'door', 'doubt', 'dough', 'down', 'download', 'draft', 'drag', 'drake', 'dread', 'dreadful', 'dream', 'dreams', 'dreamt', 'dreary', 'dress', 'drink', 'drive', 'driver', 'drug', 'drunk', 'dsm', 'duan', 'duckfac', 'dude', 'dull', 'dumbest', 'dumbledore', 'dump', 'dust', 'dwp', 'dying', 'dyyyying', 'ea', 'each', 'ear', 'earli', 'easi', 'eat', 'eben4u', 'eclips', 'eclipse2017', 'eclipseacrossamerica', 'ect', 'ed', 'edgar', 'eeeeekkkk', 'effect', 'effin', 'effort', 'ego', 'egregi', 'ehrlich', 'ehtesham_toi', 'eight', 'either', 'elderli', 'elebelfior', 'elegantlywast', 'element', 'els', 'else', 'email', 'emmajckson', 'emoji', 'emot', 'emotions', 'emreuslu', 'end', 'endings', 'enemi', 'enough', 'entir', 'etc', 'etern', 'even', 'ever', 'everi', 'everybodi', 'everyth', 'everytim', 'exam', 'exist', 'fact', 'faint', 'faith', 'fall', 'famili', 'fave', 'fear', 'feel', 'feet', 'felt', 'field', 'fieri', 'find', 'finger', 'fire', 'first', 'follow', 'for', 'forc', 'forward', 'friend', 'frighten', 'frustrat', 'fuck', 'full', 'fume', 'funni', 'furiou', 'gain', 'game', 'get', 'girl', 'give', 'glad', 'gloomi', 'glow', 'go', 'goal', 'goat', 'god', 'goe', 'gone', 'gonna', 'good', 'goofi', 'got', 'governor', 'grand', 'grandma', 'great', 'greet', 'grief', 'grim', 'gt', 'guess', 'guy', 'ha', 'had', 'half', 'handl', 'hang', 'happen', 'happi', 'hard', 'hate', 'hatr', 'haunt', 'he', 'head', 'hear', 'heard', 'heartbreak', 'hell', 'help', 'hey', 'him', 'hit', 'home', 'hope', 'horni', 'horribl', 'horrif', 'horrific', 'horror', 'hospit', 'hour', 'how', 'huge', 'human', 'hung', 'hurt', 'idiot', 'if', 'ignor', 'im', 'imagin', 'import', 'in', 'india', 'intimid', 'irrit', 'is', 'it', 'jesu', 'job', 'joy', 'jump', 'just', 'keep', 'key', 'kid', 'kik', 'kikm', 'kill', 'kind', 'know', 'lack', 'last', 'late', 'laugh', 'laughing', 'launch', 'lbc', 'learn', 'least', 'leav', 'left', 'let', 'life', 'light', 'lighter', 'like', 'lil', 'listen', 'lit', 'liter', 'littl', 'live', 'll', 'lol', 'lone', 'long', 'look', 'lord', 'lose', 'lost', 'love', 'loveisland', 'lt', 'lunch', 'mad', 'made', 'make', 'man', 'mani', 'masturb', 'may', 'mayb', 'me', 'mean', 'meet', 'men', 'mentalhealth', 'michael', 'might', 'million', 'mind', 'mine', 'minut', 'miser', 'miss', 'mistak', 'mistrust', 'mom', 'moment', 'mood', 'morn', 'morning', 'mourn', 'move', 'much', 'music', 'must', 'my', 'name', 'near', 'nearli', 'nedboult', 'need', 'needfreind', 'neg', 'neighbor', 'neither', 'nervou', 'nessa_babbbi', 'netflix', 'network', 'never', 'new', 'newark', 'newday', 'news', 'newsbykatherin', 'next', 'nextoffici', 'nfl', 'ngg', 'nhave', 'nhsengland', 'ni', 'nice', 'nick', 'niec', 'nif', 'nigga', 'night', 'nightmar', 'nihil', 'nitashakaul', 'nkaisseri', 'nluk', 'nmake', 'nmessag', 'no', 'nofriend', 'noloyalti', 'nomor', 'non', 'nopoint', 'north', 'noselfcontrol', 'nostock', 'not', 'note', 'noth', 'nothavingacomput', 'notic', 'now', 'nowher', 'nproduct', 'nrl', 'nro', 'nsingl', 'nso', 'nsw', 'nswblue', 'nswrl', 'nu', 'nuclearcod', 'nude', 'nurse', 'nuttall1878', 'nwhi', 'nyc', 'nyou', 'nyour', 'nytim', 'o_pebbl', 'objectlesson', 'obvious', 'of', 'off', 'offend', 'offense', 'offic', 'oh', 'oil', 'ok', 'okay', 'okja', 'old', 'oldest', 'oliv', 'olivia', 'omnisci', 'on', 'once', 'one', 'onlin', 'oomf', 'open', 'opinion', 'opportun', 'optim', 'optimist', 'option', 'or', 'order', 'organis', 'origin', 'oriol', 'other', 'others', 'otherwis', 'out', 'outfit', 'outlin', 'outrag', 'outsid', 'outta', 'overpopulation', 'overs', 'overtime', 'overtur', 'owamb', 'pa', 'paaa', 'pack', 'packer', 'page', 'paid', 'pain', 'panic', 'paradise', 'paradox', 'paranoia', 'paranorm', 'parent', 'part', 'parti', 'particularli', 'party', 'pass', 'past', 'patient', 'patients', 'patriarchal', 'paul', 'paul_rul', 'pave', 'paymast', 'pc', 'peac', 'pensive', 'peopl', 'people', 'peplamb', 'per', 'perhap', 'pero', 'persever', 'person', 'perspect', 'pessimist', 'philosophi', 'phone', 'pic', 'pictur', 'piec', 'pierc', 'pill', 'pilot', 'pin', 'pine', 'piss', 'pissy', 'pl', 'place', 'plan', 'plane', 'planet', 'play', 'player', 'pleas', 'pleasant', 'please', 'plu', 'podcast', 'point', 'polit', 'politics', 'poll', 'polneraff', 'pool', 'poor', 'poorservic', 'portray', 'posit', 'possibl', 'post', 'posttruth', 'potenti', 'potu', 'pound', 'pout', 'power', 'ppl', 'praddy06', 'prayer', 'preced', 'prefer', 'presidencies', 'presidenti', 'presum', 'pretti', 'pretty', 'pride', 'primadonna', 'prison', 'pro', 'probabl', 'problem', 'profession', 'professorblacktruth', 'professorf', 'program', 'programmer', 'promis', 'promo', 'promot', 'prostitut', 'protagonist', 'protect', 'protected', 'proud', 'provok', 'psycholog', 'ptx', 'publish', 'publishorperish', 'pud', 'puddlespityp', 'pull', 'punish', 'punk', 'puppi', 'push', 'pussi', 'put', 'putin', 'qld', 'queensland', 'question', 'quickli', 'quiet', 'quit', 'quot', 'rachelkennedy84', 'racism', 'rage', 'raging', 'rain', 'rainbow6gam', 'rainbowsixsieg', 'rajnathsingh', 'random', 'rap', 'rate', 'rather', 'ravishastriofc', 'ray', 'read', 'real', 'realdonaldtrump', 'realis', 'realist', 'realiz', 'realli', 'really', 'realskipbayless', 'reason', 'reassur', 'recent', 'reciev', 'record', 'red', 'refuge', 'refut', 'regret', 'reign', 'releg', 'relentless', 'religion', 'rememb', 'remember', 'remind', 'renew', 'replac', 'repli', 'reply', 'repressing', 'resent', 'resili', 'respect', 'respond', 'respons', 'rest', 'restless', 'result', 'returnofthemik', 'retweet', 'reveng', 'review', 'rgupdat', 'rhoc', 'ribbon', 'rich', 'ride', 'rift', 'right', 'ring', 'riot', 'rn', 'road', 'roam', 'roast', 'rob', 'robertcrayband', 'robhatchtv', 'rock', 'rocket', 'roflcrit', 'rohit_mhpl', 'roll', 'romanc', 'romans12v19', 'romant', 'roof', 'rooney', 'rosieblossoms_', 'round', 'row', 'rt', 'rude', 'rue', 'ruin', 'rules', 'rumchata', 'run', 'runnabl', 'rusembusa', 'russia', 'russian', 'russianhack', 'ryanair', 'ryanhedderick', 'saaa', 'sachet', 'sad', 'sadden', 'sadli', 'sadly', 'sadness', 'said', 'sails', 'sake', 'sale', 'same', 'sandwich', 'santosh', 'sap', 'sarah', 'sat', 'satanheavenli', 'save', 'saw', 'say', 'sayin', 'scare', 'scari', 'schade', 'school', 'scottadamssay', 'scrape', 'scream', 'screw', 'season', 'sebestian', 'secondari', 'see', 'seem', 'seen', 'self', 'selfish', 'sell', 'seller', 'send', 'sens', 'sentenc', 'seriou', 'serious', 'server', 'servic', 'set', 'settl', 'seunghoon', 'sewers', 'sext', 'sgtdangercow', 'shadi', 'shadow', 'shake', 'shall', 'shame', 'shaney_waney1', 'share', 'shark', 'shawti', 'she', 'shi', 'shine', 'shit', 'shits', 'shock', 'shoot', 'short', 'shot', 'shoulder', 'shouldv', 'show', 'shows', 'shudder', 'shut', 'sick', 'side', 'siennaxoffici', 'sigh', 'sign', 'signs', 'silenc', 'silence', 'silvajan', 'silverstein', 'simoncald', 'simpli', 'simul', 'sinc', 'sing', 'singer', 'singers', 'sink', 'sins', 'sir', 'sit', 'site', 'six', 'size', 'sketch', 'skh4808', 'skibbereen', 'skid', 'skinni', 'skyfootbal', 'skyuk', 'sleep', 'slice', 'slow', 'slowli', 'slut', 'small', 'smartassunit', 'smash', 'smh', 'smile', 'smolchika', 'smoother', 'sms', 'snap', 'snapchat', 'snapmap', 'snehakaul2kaul', 'snowflak', 'so', 'soaked', 'sober', 'social', 'soggi', 'solareclipse2017', 'somber', 'some', 'somebody', 'someon', 'someone', 'someonegetmeajerseyteeasap', 'someth', 'something', 'son', 'song', 'soon', 'soooo', 'sophieathertonn', 'sophielong01', 'sorri', 'sorrow', 'sort', 'soul', 'sound', 'sp', 'speaking', 'special', 'speed', 'spend', 'spent', 'spoiler', 'spoke', 'sponsor', 'sport', 'spot', 'spray', 'spraytan', 'spread', 'sprint', 'sprintcar', 'squar', 'squirrels', 'sruhl', 'stage', 'stand', 'stars', 'start', 'started', 'startl', 'starvat', 'state', 'statedept', 'stateoforigin', 'stay', 'stayed', 'step', 'stevenfurtick', 'stevi', 'still', 'sting', 'stock', 'stodgi', 'stolen', 'stop', 'store', 'stori', 'storm', 'story', 'strang', 'streak', 'strength', 'stress', 'stronger', 'struggle', 'studies', 'stuff', 'stumbl', 'stupid', 'su', 'sub', 'subscrib', 'subtitl', 'successtrain', 'such', 'suck', 'sucks', 'sudamanbt', 'sudden', 'suffer', 'suicid', 'suicide', 'suit', 'sulk', 'summer', 'sun', 'sunday', 'superstar', 'supervaluirl', 'support', 'suppos', 'sure', 'suspicion', 'suvidha', 'swear', 'sweat', 'sweeper', 'sweet', 'sworn', 'system', 'tag', 'tailor', 'take', 'talk', 'talkradio', 'tampax', 'tan', 'tana', 'tantrum', 'tantrums', 'tariq', 'tariql', 'tariqnashe', 'tate', 'taylor', 'taylorrayholbrook', 'taylorraystweet', 'tea', 'teacher', 'team', 'teamchristin', 'teampet', 'teapainusa', 'tear', 'tech', 'technic', 'technolog', 'tell', 'temper', 'tequila', 'termin', 'terribl', 'terrible', 'terribleservic', 'terrif', 'terrifi', 'terrifying', 'terror', 'test', 'tgowdysc', 'tgt', 'than', 'thank', 'thankful4al', 'thanks', 'that', 'thatradiogeek', 'the', 'the_lucbomb', 'thealexpeac', 'thealicerobert', 'thechicmystiqu', 'theday', 'thedemocrat', 'theellenshow', 'theieansquad', 'theme', 'then', 'there', 'thereof', 'therock', 'theveteran425fa', 'theview', 'they', 'thi', 'thing', 'thingi', 'think', 'this', 'tho', 'thomasewood', 'thomsonholiday', 'thou', 'though', 'thought', 'thoughts', 'thread', 'threat', 'threaten', 'throne', 'thrown', 'tht', 'thx', 'ticket', 'tiff', 'till', 'tim', 'timcrobert', 'time', 'timid', 'timmyldn', 'tini', 'tire', 'tired', 'to', 'toast', 'today', 'todd', 'toe', 'told', 'tomilahren', 'tomorrow', 'ton', 'tongu', 'tonight', 'tonka', 'tonyposnanski', 'too', 'took', 'top', 'total', 'tough', 'tourism', 'toward', 'tragedy', 'trap', 'trash', 'travel', 'treason', 'treat', 'trembl', 'tremend', 'tri', 'tribal', 'trnsmt', 'troye', 'troyesivan', 'truck', 'true', 'trump', 'truthbomb', 'tryit', 'tuesday', 'tune', 'turn', 'tv', 'tweet', 'twenti', 'twice', 'twin', 'twitter', 'twitterpol', 'two', 'uber', 'ugh', 'uk', 'uksportszon', 'ultim', 'umbrella', 'unabl', 'unattract', 'unauthoris', 'unbear', 'understand', 'unesco', 'unfortun', 'unfulfil', 'unhappi', 'uniqu', 'unit', 'univers', 'unnecessari', 'unnie', 'unto', 'unwel', 'up', 'upcom', 'upon', 'upset', 'ur', 'us', 'use', 'usmc', 'usual', 'utterli', 'uzalu_', 'valid', 'values', 'vampire', 'varieti', 'vaughan', 'veeh_ro', 'veng', 'vengeanc', 'veri', 'victimhood', 'vid', 'video', 'videogam', 'view', 'villa', 'virginmedia', 'virtualalien', 'vitara', 'vivaonlin', 'vonn', 'vote', 'votes', 'vs', 'wa', 'waii', 'waist', 'wait', 'wake', 'walk', 'wander', 'wanna', 'want', 'war', 'warrior', 'washingtonpost', 'wasp', 'wassup', 'wast', 'watch', 'wate', 'wattpad', 'wave', 'way', 'wda_punish', 'we', 'weareelektron', 'weari', 'weary', 'weather', 'websit', 'weehug', 'week', 'weekend', 'weekoff', 'weep', 'weird', 'welcom', 'well', 'welsh', 'went', 'west', 'wet', 'wh', 'what', 'wheel', 'when', 'where', 'wheresthefunni', 'wheresthesun', 'whi', 'white', 'whitehous', 'whitejennyb', 'who', 'who_cares_nvm', 'whole', 'whose', 'why', 'wildlif', 'will', 'willb', 'wimbledon', 'win', 'wind', 'windass', 'window', 'wisdom', 'wiseword', 'wish', 'wit', 'with', 'without', 'wizkidayo', 'woe', 'woke', 'woken', 'wolf', 'woman', 'won', 'wonder', 'wont', 'word', 'words', 'work', 'worked', 'world', 'worri', 'worry', 'wors', 'worship', 'worshiping', 'worst', 'worththewait', 'would', 'wow', 'wrag', 'wrap', 'wrath', 'wrinkles', 'write', 'written', 'wrong', 'wrote', 'wtf', 'www', 'wyoming', 'xbox', 'ya', 'yak', 'ye', 'yeahlizzi', 'year', 'yesterday', 'yet', 'yondu', 'you', 'youcav', 'your', 'yours', 'yourselves', 'youtub', 'youtubefail', 'yr', 'zain', 'zapper', 'zineeta_r', 'zion']\n(397, 1500) (397,)\n"
    }
   ],
   "source": [
    "# Create bag-of-words model\n",
    "\n",
    "from sklearn.feature_extraction.text import CountVectorizer\n",
    "import numpy as np\n",
    "\n",
    "vectorizer = CountVectorizer(max_features = 1500)\n",
    "X = vectorizer.fit_transform(corpus).toarray()\n",
    "y = []\n",
    "for index, row in dataset.iterrows():\n",
    "    y.append(int(row['level'][0]))\n",
    "y = np.array(y)\n",
    "print(vectorizer.get_feature_names())\n",
    "print(X.shape, y.shape)"
   ]
  },
  {
   "cell_type": "code",
   "execution_count": 64,
   "metadata": {},
   "outputs": [
    {
     "output_type": "stream",
     "name": "stdout",
     "text": "(317, 1500) (317,)\n(80, 1500) (80,)\n"
    }
   ],
   "source": [
    "# Split dataset into training and test sets\n",
    "\n",
    "from sklearn.model_selection import train_test_split\n",
    "\n",
    "X_train, X_test, y_train, y_test = train_test_split(X, y, test_size = 0.20, random_state = 0)\n",
    "\n",
    "print(X_train.shape, y_train.shape)\n",
    "print(X_test.shape, y_test.shape)"
   ]
  },
  {
   "cell_type": "code",
   "execution_count": 77,
   "metadata": {},
   "outputs": [
    {
     "output_type": "execute_result",
     "data": {
      "text/plain": "GaussianNB(priors=None, var_smoothing=1e-09)"
     },
     "metadata": {},
     "execution_count": 77
    }
   ],
   "source": [
    "# Fit Naive Bayes to the training set\n",
    "\n",
    "from sklearn.naive_bayes import GaussianNB\n",
    "\n",
    "classifier = GaussianNB()\n",
    "classifier.fit(X_train, y_train)"
   ]
  },
  {
   "cell_type": "code",
   "execution_count": 78,
   "metadata": {},
   "outputs": [
    {
     "output_type": "stream",
     "name": "stdout",
     "text": "[2 3 0 2 3 0 3 0 3 2 3 3 0 2 0 1 3 3 0 1 0 2 0 1 2 1 3 1 1 0 1 1 3 2 2 3 3\n 1 2 2 2 2 0 1 1 3 1 2 1 0 2 0 1 2 0 2 3 0 0 1 0 0 2 1 3 3 0 3 0 2 3 0 0 0\n 2 2 0 3 2 0]\n"
    }
   ],
   "source": [
    "# Predict test set results\n",
    "\n",
    "y_pred = classifier.predict(X_test)\n",
    "\n",
    "print(y_pred)"
   ]
  },
  {
   "cell_type": "code",
   "execution_count": 70,
   "metadata": {},
   "outputs": [
    {
     "output_type": "stream",
     "name": "stdout",
     "text": "[[10 12  8  7]\n [ 7  1  8  6]\n [ 5  2  1  4]\n [ 2  1  4  2]]\nAccuracy:  0.175\nPrecision:  0.175\nRecall:  0.175\nF1:  0.175\n"
    }
   ],
   "source": [
    "# Generate metrics\n",
    "\n",
    "from sklearn.metrics import confusion_matrix\n",
    "from sklearn.metrics import accuracy_score\n",
    "from sklearn.metrics import precision_score\n",
    "from sklearn.metrics import recall_score\n",
    "from sklearn.metrics import f1_score\n",
    "\n",
    "# confusion matrix\n",
    "print(confusion_matrix(y_test, y_pred))\n",
    "\n",
    "# accuracy\n",
    "print('Accuracy: ', accuracy_score(y_test, y_pred))\n",
    "\n",
    "# precision\n",
    "print('Precision: ', precision_score(y_test, y_pred, average='weighted'))\n",
    "\n",
    "# recall\n",
    "print('Recall: ', recall_score(y_test, y_pred, average='weighted'))\n",
    "\n",
    "# f1\n",
    "print('F1: ', f1_score(y_test, y_pred, average='weighted'))"
   ]
  },
  {
   "cell_type": "code",
   "execution_count": 81,
   "metadata": {},
   "outputs": [
    {
     "output_type": "stream",
     "name": "stdout",
     "text": "[[37  0  0  0]\n [22  0  0  0]\n [12  0  0  0]\n [ 8  0  1  0]]\nAccuracy:  0.4625\nPrecision:  0.2166139240506329\nRecall:  0.4625\nF1:  0.29504310344827583\n/home/joana/envs/python37/lib/python3.6/site-packages/sklearn/metrics/_classification.py:1272: UndefinedMetricWarning: Precision is ill-defined and being set to 0.0 in labels with no predicted samples. Use `zero_division` parameter to control this behavior.\n  _warn_prf(average, modifier, msg_start, len(result))\n"
    }
   ],
   "source": [
    "# SVM\n",
    "\n",
    "from sklearn.svm import SVC\n",
    "\n",
    "classifier = SVC()\n",
    "classifier.fit(X_train, y_train)\n",
    "y_pred = classifier.predict(X_test)\n",
    "\n",
    "print(confusion_matrix(y_test, y_pred))\n",
    "print('Accuracy: ', accuracy_score(y_test, y_pred))\n",
    "print('Precision: ', precision_score(y_test, y_pred, average='weighted'))\n",
    "print('Recall: ', recall_score(y_test, y_pred, average='weighted'))\n",
    "print('F1: ', f1_score(y_test, y_pred, average='weighted'))"
   ]
  },
  {
   "cell_type": "code",
   "execution_count": 82,
   "metadata": {},
   "outputs": [
    {
     "output_type": "stream",
     "name": "stdout",
     "text": "[[24  2 11  0]\n [14  2  4  2]\n [ 5  4  3  0]\n [ 6  0  2  1]]\nAccuracy:  0.375\nPrecision:  0.355280612244898\nRecall:  0.375\nF1:  0.3416812015503875\n"
    }
   ],
   "source": [
    "# Logistic Regression\n",
    "\n",
    "from sklearn.linear_model import LogisticRegression\n",
    "\n",
    "classifier = LogisticRegression()\n",
    "classifier.fit(X_train, y_train)\n",
    "y_pred = classifier.predict(X_test)\n",
    "\n",
    "print(confusion_matrix(y_test, y_pred))\n",
    "print('Accuracy: ', accuracy_score(y_test, y_pred))\n",
    "print('Precision: ', precision_score(y_test, y_pred, average='weighted'))\n",
    "print('Recall: ', recall_score(y_test, y_pred, average='weighted'))\n",
    "print('F1: ', f1_score(y_test, y_pred, average='weighted'))"
   ]
  },
  {
   "cell_type": "code",
   "execution_count": 83,
   "metadata": {},
   "outputs": [
    {
     "output_type": "stream",
     "name": "stdout",
     "text": "[[19  7  9  2]\n [ 9  4  7  2]\n [ 6  1  2  3]\n [ 3  1  3  2]]\nAccuracy:  0.3375\nPrecision:  0.3614010989010989\nRecall:  0.3375\nF1:  0.34353896103896103\n"
    }
   ],
   "source": [
    "# Perceptron\n",
    "\n",
    "from sklearn.linear_model import Perceptron\n",
    "\n",
    "classifier = Perceptron()\n",
    "classifier.fit(X_train, y_train)\n",
    "y_pred = classifier.predict(X_test)\n",
    "\n",
    "print(confusion_matrix(y_test, y_pred))\n",
    "print('Accuracy: ', accuracy_score(y_test, y_pred))\n",
    "print('Precision: ', precision_score(y_test, y_pred, average='weighted'))\n",
    "print('Recall: ', recall_score(y_test, y_pred, average='weighted'))\n",
    "print('F1: ', f1_score(y_test, y_pred, average='weighted'))"
   ]
  },
  {
   "cell_type": "code",
   "execution_count": 84,
   "metadata": {},
   "outputs": [
    {
     "output_type": "stream",
     "name": "stdout",
     "text": "[[25  5  7  0]\n [14  3  3  2]\n [ 4  2  5  1]\n [ 1  1  2  5]]\nAccuracy:  0.475\nPrecision:  0.4522142379679145\nRecall:  0.475\nF1:  0.4533944356797637\n"
    }
   ],
   "source": [
    "# Decision Tree\n",
    "\n",
    "from sklearn.tree import DecisionTreeClassifier\n",
    "\n",
    "classifier = DecisionTreeClassifier()\n",
    "classifier.fit(X_train, y_train)\n",
    "y_pred = classifier.predict(X_test)\n",
    "\n",
    "print(confusion_matrix(y_test, y_pred))\n",
    "print('Accuracy: ', accuracy_score(y_test, y_pred))\n",
    "print('Precision: ', precision_score(y_test, y_pred, average='weighted'))\n",
    "print('Recall: ', recall_score(y_test, y_pred, average='weighted'))\n",
    "print('F1: ', f1_score(y_test, y_pred, average='weighted'))"
   ]
  },
  {
   "cell_type": "code",
   "execution_count": 91,
   "metadata": {},
   "outputs": [
    {
     "output_type": "stream",
     "name": "stdout",
     "text": "[[33  1  2  1]\n [18  2  0  2]\n [ 8  0  2  2]\n [ 5  1  0  3]]\nAccuracy:  0.5\nPrecision:  0.4931640625\nRecall:  0.5\nF1:  0.4217412974329108\n"
    }
   ],
   "source": [
    "# Random Forest\n",
    "\n",
    "from sklearn.ensemble import RandomForestClassifier\n",
    "\n",
    "classifier = RandomForestClassifier()\n",
    "classifier.fit(X_train, y_train)\n",
    "y_pred = classifier.predict(X_test)\n",
    "\n",
    "print(confusion_matrix(y_test, y_pred))\n",
    "print('Accuracy: ', accuracy_score(y_test, y_pred))\n",
    "print('Precision: ', precision_score(y_test, y_pred, average='weighted'))\n",
    "print('Recall: ', recall_score(y_test, y_pred, average='weighted'))\n",
    "print('F1: ', f1_score(y_test, y_pred, average='weighted'))"
   ]
  },
  {
   "cell_type": "code",
   "execution_count": 93,
   "metadata": {},
   "outputs": [
    {
     "output_type": "stream",
     "name": "stdout",
     "text": "(1, 1500)\n[[0 0 0 ... 0 0 0]]\nSentiment level:  [0]\n"
    }
   ],
   "source": [
    "# Simple test\n",
    "\n",
    "import os\n",
    "import numpy as np\n",
    "\n",
    "tweet = input(\"Enter tweet: \")\n",
    "tweet = re.sub('[^a-zA-Z]', ' ', rev).split()\n",
    "tweet = ' '.join([ps.stem(w) for w in tweet])\n",
    "X = vectorizer.transform([tweet]).toarray()\n",
    "\n",
    "print(X.shape)\n",
    "print(X)\n",
    "\n",
    "print(\"Sentiment level: \", classifier.predict(X))"
   ]
  },
  {
   "cell_type": "code",
   "execution_count": null,
   "metadata": {},
   "outputs": [],
   "source": []
  }
 ],
 "metadata": {
  "kernelspec": {
   "display_name": "Python 3.6.9 64-bit ('python37': venv)",
   "language": "python",
   "name": "python36964bitpython37venvb1b630360d0f4ea08bfe0f6fcf349387"
  },
  "language_info": {
   "codemirror_mode": {
    "name": "ipython",
    "version": 3
   },
   "file_extension": ".py",
   "mimetype": "text/x-python",
   "name": "python",
   "nbconvert_exporter": "python",
   "pygments_lexer": "ipython3",
   "version": "3.6.9-final"
  }
 },
 "nbformat": 4,
 "nbformat_minor": 4
}