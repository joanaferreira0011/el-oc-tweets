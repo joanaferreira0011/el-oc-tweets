{
 "cells": [
  {
   "cell_type": "code",
   "execution_count": 7,
   "metadata": {},
   "outputs": [],
   "source": [
    "import pandas as pd\n",
    "\n",
    "# Importing the dataset\n",
    "dataset = pd.read_csv('2018-EI-oc-En-sadness-dev.txt', sep=\"\\t\", header=None, skiprows=1)\n",
    "dataset.columns = ['date', 'text', 'emotion', 'level']\n"
   ]
  },
  {
   "cell_type": "code",
   "execution_count": 8,
   "metadata": {
    "tags": [
     "outputPrepend"
    ]
   },
   "outputs": [
    {
     "output_type": "stream",
     "name": "stdout",
     "text": "booti', '@user', '@user', 'fuck small talk tell age start disappoint parent', \"mom' work discount riot fest ticket $147/3 day i'm #sadden\", '@user', \"462 appear PL 200 goals!! 2.31 game per goal. that' nearli goal everi 2 game #crap :face_with_tears_of_joy::face_with_tears_of_joy: :face_with_rolling_eyes::face_with_rolling_eyes::thinking_face::thinking_face: #rooney\", \"Do peopl notic say 'you'r pretty' I make-up on. Is offense! \\\\n&amp; I take note never say I don't.\", 'peplamb: stevenfurtick #comfort #mourn, To consol #mourn #zion, To give #beauti #ashes, the #oil #joy for…', 'alaina I 90 day snap streak. so?', 'unit airlin newark need kiosk peopl miss cut time. and hire ppl too. #horribl', 'If @user', '@user', \"I feel exhaust ...\\\\ni tri good job, appar god see right. i'm weary! I exist! :worried_face::broken_heart::loudspeaker:\\\\n#exist #weari #misonorotta\", '@user', '@user', '@user', '@user', '@user', 'the pessimist complain wind; optimist expect change; realist adjust sails.', '@user', 'listen refuge children, bare decad old, describ horrif act forc commit terrifying. #datelinesb', '4 hours. \\\\n4,189 words.\\\\n1 story.\\\\n#amwrit #horror #publishorperish', 'when I think yondu &amp; crew, rocket, &amp; groot 700 jump ego planet, I start laughing.', 'let go anger key happiness. pleas help let go angri feelings. #happi #anger', 'same :frowning_face:', '@user', '@user', '@user', '@user', \"I actual watch drug destroy entir famili :crying_face:mother' skid row. oldest daughter lost child. father estranged. #horrif\", 'I feel intimid', '@user', '@user', '@user', 'guess stay 2am incas someon call never like knew alreadi , me, mistak made', 'everytim I think life get better never come #sadli', '#rage #disappoint man.... Is life what? lol', 'So disappoint E! portray kyli jenner! make look fake &amp; filthi rich @user', \"wait...lawrence' friend drag fuck outta him!!\", 'hiya everyon want pleas #retweet pin #rt #help #romanc #wattpad #hurt #tweet #twitter #thank', \"can't handl rude people. doesn't matter job do, consult not, treat peopl would like treat :pouting_face: #disapoint\", 'are make dark, darker shine light jesu dark.\\\\n #jesu #light #shine', 'worst dreams. :sad_but_relieved_face:', '@user', '#ifonlypeoplewould exist. #human #life #ignor #natur #mothernatur #sad #disappoint #smh #person #opinion #view #anim', \"are u #depress #hypo #manic #lone #bore #nofriend #needfreind #friend I feel chatti I wanna help ppl #makefriend 's #dm #mom\", 'hey @user', '@user', '#anxiou know ................. #worri :face_without_mouth: slowli go #mad hahahahahahahahaha', \"+++ '#dearli #beloved, aveng yourselves, rather give place unto #wrath: #written, #vengeanc #mine; I …' #romans12v19\", '@user', 'So happi home ibiza place thing els mad gaff , need find bird I wanna start romant thing :face_with_tears_of_joy::face_with_tears_of_joy:', '@user', '@user', 'someth #awestruck today laugh non subtitl korean varieti show...', \"the part roof bar (driver' side) stolen grand vitara cars. let known. thi realli #dishearten #brunei\", 'sell nude pic vid kik buy! dirty_becca69\\\\n\\\\n#kik #kikm #kikusernam #snap #snapchat #findom #nude #slut #kiktrad #horni', 'excit watch #stateoforigin tonight! come nsw #origin #blue #nsw #qld #nrl', '@user', '@user', 'all boy play n0 play dull mᴬkes.', 'wow! today, total see alot #mean #peopl #world! turn around #start cultiv #kindness! #successtrain #warrior', 'it’ lack #faith make #peopl #afraid #meet #challeng …\\\\n\\\\n#muhammadali', \"don't fuck tag pictur 'famili first' cut 5 year ago. you'r one me.\", \"can't believ zain start secondari year :crying_face:\", \"what' wors feel discouraged? not find emoji feel discourag\", 'when enough @user', 'remember, everyth #lost, gain someth else. without #dark, would never see #stars.', '@user', 'liter hang thread need taylor ray tonight love bad dog suck #taylorrayholbrook #hurt @user', '@user', 'when light shut turn settl down, main concern...', '@user', '@user', 'had frustrat dream left utterli f**king furious. plu side: angri sleep, wrote 1500 words. minu side: still raging!', \"there' excus make mistak twice. live &amp; learn deal consequ unhappi #truthbomb\", 'I shi first.it usual take minut assess jaw peopl hang act according:woman_shrugging_medium_skin_tone:', \"Is suppos arduou interact people? i'm 'other people' seem struggle.\", '@user', '@user', '5 goal 87 appear last season mckay, holt windass! simpli horrific! get midfield balanc sort team fire!', '#dmme #kikm #sext #horni #ass #bbw #naughti #pussi #kik #nude girl :weary_face: horni #snap jacobgig', 'So @user', '@user', '@user', 'realiz may worri gone long! fear not, made new life sewers,', '“#woe unto #you #full! ye shall #hunger. #woe unto #laugh now! ye shall #mourn #weep.”\\\\nluk 6:25', '@user', \"there' still sad hatr pero feel better yesterday.\", 'are u sad upset?', 'We know #speed #light; speed #dark?', 'It could soul-crush despair, also might marshmallow I breakfast', 'past test exam .. cdl achiev :sad_but_relieved_face:', \"everi day I alway get bit sad i'v finish lunch.\", '@user', '@user', 'I want digit art bad, dad let use ipad till exam :face_with_tears_of_joy:', '@user', \"baby, i'm danc dark\", 'she mad su hung :face_with_tears_of_joy:', '@user', '@user', 'ye @user', '@user', \"like I might'v set top car &amp; so, shit long gone :loudly_crying_face:\", 'what I heart trembl thought it?\\\\ni realli don’t know love', '#damilolaourlovedboy So upset :crying_face::crying_face:. whi peopl want hurt others! such cruel world live #heartbreak', \"y'all understand. woman' wrath real. :rose::black_heart:\", \"how sick must someon wish 'punish' someon friend? #insecur #lone #miser #veng #rhoc\", 'danni terribl influence, pierc time:face_with_tears_of_joy::syringe:', \"I think 'sleep' favorit how get dark?, mayb i'm insomniac\", 'definit someth happen today #solareclipse2017 #weird #annoy', '@user', 'If go nurse, learn nice patient person, jesu :upside-down_face:', \"work go kill 5 o'clock nowher near :worried_face:\", 'total scare upcom result .', '@user', '@user', '#teamchristin bc tana done provok tweet shadi shit tri hard bitch beg fight', '@user', '@user', 'lot univers activ discourag even one part-tim job neg impact studies--', '@user', 'wanna sober u', \"'we need something. someth must done!!!!!'\\\\n\\\\nyour anxieti amusing. noth done. despair.\", '@user', '[ @user', \"i'v got builder offic I game make. perhap ill start sketch next game... #gamedev #indiedev\", \"' can't even tell u lie I felt like u special, till I realiz wassup left, got u feel dread '\", '@user', 'I like #glow #dark #fidgetspinner. not glow dark neither. It feel lighter smoother other', 'damn I lost key I forgot get garag open', 'shame cashback @user', '@user', 'when duan allman died, I learn appreci stevi ray vaughan. true story. #blue #legend', 'made mind \\\\nmake new start', 'that banish sadness, way I am? #somber', 'nomor drink :relieved_face::face_with_tears_of_joy: #seriou', ':South_Africa:ha becom place peopl even timid us bay blood around everi corner.', 'We replac #loss #hope, #hate #love, #pain #gain, close window #bitter open door #faith. #tryit', \"armi see work hard keep bt social 50 chart!\\\\ndon't feel discouraged, still amaz bt #2 promo :two_hearts:\", 'okay I serious know whole twitter thing work #lost', 'happi play tgt team once. thought would anoth chanc sadli no. rest In peac dear friend. :(', 'except eclips make believ omnisci forc #dissapoint', '+ cant get tell offend', '@user', '@user', \"#louiselinton - hater gonna hate keep your#fabul self they'll keep #miser\", '@user', 'pleas stop ruin depress meme posit optim', '#worri never rob tomorrow #sorrow; sap today #strength - A. J. crown #faith #posit #motiv', 'what amelia want?! sarah v grate #cbb', \"i'm sorri also...fuck #currentfeel #anger #bpd #eupd #borderlin #mentalhealth #anxieti #depress #confus\", 'peopl alway afraid stodgi squar would kill rock roll, legitim threat ever child choruses.', \"I must goblin rain everi time i'm effin sad. lol\", 'wtf shawti ass :face_with_steam_from_nose:', '@user', '@user', 'probabl watch sad bt video bc im sad :( iwannacryy :(\\\\n halppp', 'just paid arsehol coupl new found glori ticket gonna great start birthday weekend :oncoming_fist:', 'Oh @user', \"I watch video took troye' concert last year happi littl pill im cri miss @user\", 'what miser ass weather :loudly_crying_face: dark gloomi #depress #weekoff #wheresthesun', '-c- disarm equip suspicion potenti accomplic anni leonhart.', '#americasgottal live show mani technic fault #dishearten', '@user', \"i'm kind tire everyth #summer #heat #bicycl #videogam #bookwrit #nothavingacomput\", 'everyth I order onlin come look like piec shit :face_with_steam_from_nose:', \"can't drink day u start morn .. drake get :face_with_tongue:\", 'MY power goe out and short out MY xbox!! had IT sinc day 1 launch OF cours IT break ON MY birtday! #birthday #xbox #sad', '@user', 'outsid basic becom horror movi gypsi moth take world flit aggress about.\\\\n\\\\n#creaturedoublefeatur', '@user', \"can't believ i'v lost phone get home\", '@user', 'brighten gloomi day @user', 'time #burst #burstcoin fork??', '@user', '@user', 'If sit back, watch &amp; listen everi .@user', 'I mean, I want goat faint... I want see goat faint. #eclips', \"At point I can't tell I follow peopl polit twitter I need new friends. #wheresthefunni #depress\", 'realli want mom go back home :crying_face: :crying_face: :crying_face: :crying_face: :crying_face: :crying_face: :crying_face: #gut #cri #miser #whi', 'wa huge fan @user', 'africa uniqu tremend problem war, overpopulation, starvat tribal make move africa forward hard.', 'Do presum rich poor bring happi - santosh kalwar #quot #mentalhealth #psycholog #depress #anxieti', 'coffe floor; and soul grew furiou still broken little,', '@user', '@user', '@user', 'look upon mine #afflict &amp; \\u200b\\u200b\\u200b#pain\\u200b; &amp; forgiv sins. -p 25:18', 'caleb nightmar zombies. I dream freedom.......', \"the next time I go lago I gate crash somebody' owamb dress lace gele eat amala shake waist:expressionless_face:\", \"damn i'm tire hell I never get day week anymor :loudly_crying_face: I wanna call bad lil 60 hr sound good.\", 'A bih lock shit. #depress', 'how feel @user', 'So I buy whole new comput', '@user', '@user', 'good morn happi tuesday! I hope terrif day! enjoy ton :grinning_face_with_big_eyes:', \"i'v come conclus onlin world serious 'fuck up' there' absolut word describ #bleak #grim\", '@user', \"imagin suffer chronic depress told 'you unattract chip shoulder' #dwp #wrag #www.gov.uk #mentalhealth\", '@user', '@user', 'the sound rain pretti peac annoy mood :grinning_face_with_sweat:', '3 half hour :face_with_steam_from_nose: #exo', \"jame clapper 'scari disturbing'. #25thamendmentnow #impeachtrump #terrifi #nuclearcod #godhelpu\", '@user', 'leviticu 19:14\\\\nyou shall curs #deaf put stumbl #block #blind, shall #fear #god: I [1/2]', 'I never thought I would say I realli miss todd :sad_but_relieved_face:', 'imagin mani ksone cri right get ticket :loudly_crying_face: meanwhile, ison dont even get chanc go war ticket :loudly_crying_face:', \"can't talk To An incompet person. goe In one ear out the other. #irrit #nopoint #massiveeyerol\", 'one moron drive overs tonka truck big flag bed back forth blare countri music. :neutral_face: #disappoint', 'understand ppl save wasp , next chanc lil dude get gnna sting ur grandma', '@user', 'count you, queensland. #stateoforigin #bronco #maroon #blue #nswblue #qld', '@user', \"all makeup go sale....\\\\nbut I ain't got funds. #heartbreak\", '@user', 'everybodi seem sp serious?', 'the blackest abyss despair, alonzo', '@user', '#world know differ #drunk #sober? one word. #coherence.', \"eeeeekkkk!!!!\\\\nproduct launch :smiling_face_with_heart-eyes::raised_hand::sparkling_heart:\\\\ni'm liter b•u•z•z•i•n•g!!!\\\\nsingl sachet :smiling_face_with_heart-eyes::smiling_face_with_heart-eyes:\\\\n \\\\nmessag yours! :winking_face_with_tongue::person_gesturing_OK::purple_heart:#loveyourlifestyl #shake\", '@user', 'I post snap dad, someon thought grandmoth #cri', 'last sunday youtub glitch make lose 20 sub heartbreak channel size! nearli 1K though #1ksub #youtub soon :grinning_face:', \"nah governor call someon bum &amp; love call 'communist montclair' ? :face_with_tears_of_joy: #cri\", \"too much caffeine, i'm dyyyying. #jitter #shake #paranoia #heartbeat1000 :hot_beverage::broken_heart:\", '@user', 'jeong su easi get along everybodi like intimid him.. I like him.. remind seunghoon', 'post trnsmt blue', '@user', 'My new favourit #film shadow doubt #okja #beautiful #funni #sad #emot #real #netflix #mustwatch #now', \"it' beauti pout. c:\", '@user', '@user', \"bewar wrath angry, frustrated, #agil grandma network. :old_woman_medium-light_skin_tone::pouting_face: i'm sayin'. #objectlesson\", '@user', \"did men call shi mean it? So I reassur i'm make sure he' good invest alla :face_with_rolling_eyes:\", 'she obvious move music @user', 'girl masturb too,boy cri too!\\\\n#girl # boy #cri #masturb', '@user', 'total regret sign @user', '@user', 'russia stori infuri trump today. media otherwis would give tongu bath fall isi mosul + al-baghdadi death.', \"and i'm realli piss fuck I good job keep kid well I like see sick sad.\", 'hey @user', 'send love &amp; prayer famili @user', 'I like ito manga end bleak hopeless endings, way make look like protagonist lost', \"not sure tequila shot famili birthday meal best idea i'v ever #grim\", 'nigga write talk bout I dreamt you, cool I hope I haunt nightmar', '@user', 'you would think book holiday 2 sat next bloodi plane #fume :pouting_face:@user', 'how come quiet well behav cat dog ride plane tini bag scream small human roam free? #outrag #teampet', '*on lighter note*\\\\ngg, nkaisseri &amp; total man? the rate jubile lose votes!! :worried_face:', \"still #devast #sad #tariq' #tariql channel #professorblacktruth well. #youtubefail #epicfail! #tariqnashe :crying_face:\", \"that absolut two worst nation anthem singer i'v ever heard, screw word #aw\", \"i'm soooo annoyed. wait start morning.\", 'hear song phone glu ear like singer spoke me... #mad #mad hahah', '@user', \"#depress today bitter sweet watch kid go back school made realli miss babies. i'm broke #backtoschool2017\", '@user', 'My best friend drive first time car #terrifi', 'when know go next.. life..:thinking_face: #lost', '@user', 'migrain hangov worst thing ever :persevering_face: #burst', \"you certain #arrogance, I think that' fine, never lose #respect others.\", \"it' rain everi day sinc june 30. that' 13 #dreary, #soggi day row. #auckland\", 'alright alex I parti boy neighbor blast music', 'be @user', 'shoot ever, make mistak ever I jump pool shark long time ago. #relentless *#resili', 'aleesha—kitchen sink, twenti one pilot (!!)', '@user', '5,000 new US #citizen swear now! #tear #congratul', '@user', 'saw first larsen trap today stress magpie. I never ever want see #angri #distress #wildlif', 'theme week: ask lord strength &amp; perspect persever #integr effort, despit #dishearten &amp; disappointed.', '@user', '@user', '@user', 'that moment look back realis #selfish #horribl #judgement person. #feelingasham', '@user', 'god match dull #wimbledon', '@user', 'listen ... golden brown give life ... hell feet get dark :downcast_face_with_sweat:', 'got woken road sweeper I tri sleep', '@user', '@user', '@user', '@user', '@user', '@user', \"If u #smile much:grinning_face:\\\\nu get frown lines,\\\\nif u #cri much:persevering_face: \\\\nu get eye wrinkles,\\\\n\\\\n:repeat_single_button: laugh&amp;cry\\\\n\\\\n ...it' #life :growing_heart:\\\\n\\\\nhave great day\\\\n\\\\n:honey_pot::honeybee:'\", \"woke feel fresh clear mind. that' never happen before.\\\\n#morn #sober\", 'By way...in case didnt know...joshua goin tonight...to take trash play blue ever us 6.75', 'julia I final go abl meet ptx #cri', \"it' strang juxtaposit emotions. A sens euphoria sens despair.\", 'So disappoint spend £50 outfit meet boy #noselfcontrol #nervou', '@user', 'how shit depress weather wish I travel world live', 'okay @user', \"israel' recent overtur toward west africa seem attract element suspicion...an unnecessari suspicion though.\", '@user', 'wrap In thi burrito, gotta sweat thi all out :anxious_face_with_sweat:', \"I think i'll etern irrit lit teacher :face_with_tears_of_joy:\", '@user', '@user', '#worry, #doubt, #fear #despair enemi slowli bring us ground turn us dust die.', '@user', 'freakin a...i delet half episod bip accid #bachelorinparadis', 'i’m glad i’m like sad peopl onlin gossip bulli other entertain life.', 'We need littl learn live happili - michel de montaign #quot #philosophi #wisdom #wiseword #mentalhealth #psycholog #anxieti', '@user', \"quit possibl worst anthem i'v ever heard pro sport singers. I wish I deaf. #asg2017 #mlb #mlballstargam\", \"My dog stop bark i'm eight rage headach\", '@user', '@user', 'My boyfriend whole world :loudly_crying_face:', \"smile we'r close tear\", 'paul ehrlich said human threat life. such great news start day. If I could blush I would.', '@user', \"the way i'm alway twitter work littl alarm :woman_facepalming_medium-dark_skin_tone:\", 'each everi time I log websit view lindsey vonn pic I #sadden cours culture.', '@user', 'depress sucks:pensive_face:', 'A programmer’ wisdom understand differ get program run runnabl program. #puppi', '@user', '@user', \"someone' nick lunch fridg work!! roast dinner well! #fume\", 'To #wyoming: beauti state road signs, lack thereof, terrible. #lost', 'man I feel like crap today :anxious_face_with_sweat:', \"If god plan would'v made alreadi #discourag\", 'chelsea unit must furiou', '@user', 'chopper &lt;&lt;dammit! just sink already!&gt;&gt;', '@user', '@user', 'O, melancholi catacomb quickli wander rue morgue, madman!', 'lost appetit past 5 day I swear I alreadi lost 3 pound #depress #at #least #i #will #be #skinni #for #pride #weekend', \"tonight' run.... #restless\", \"been work even 4 hour i'v thrown boil tea everywhere, smash mug, smash milk jug slice finger open:neutral_face:\", '@user', 'thi prison aw gloomy. would mind I put ribbon bars?', 'threaten leav girl shake wet spot ....', '@user', '@user', \"I click download pc. messag say 'thank download #itun \\\\nso, where' download?! #frustrat\", \"didn't know @user\", 'I woke still hardli believ happen last night :anxious_face_with_sweat:', '@user', '@user', \"i'm back twitter! #madden #madden18 #maddenmobil #ea #nfl #espn #packer\", '@user', '@user', '@user', 'pleas ruin party, @user', 'get feel @user', 'when started? all depress &amp; anxieti shits?al suicid thoughts?al bad thought tht hug night?', 'blah blah blah kyrie, it, etc. @user', 'If build resent silenc realli anyon favor', \"can't stand lad put middl finger pic\", '@user', 'dirti chai tea rumchata hit spot gloomi tuesday morning. :smiling_face_with_smiling_eyes:', '@user', '@user', '#hopkinsvil #ki #total #eclips #capit #world #august 2017 #danc n #moon #dark #eclipse2017 #eclipseacrossamerica #edgar #cayc', 'B4 I couldnt get bed look mirror thankful4al support I reciev imwakinguphappynot dread theday', 'I love see @user', 'hmm...look like one @user', '@user', 'coulda sworn interview with A vampire. hmmm......mandela effect anyone? \\\\n#interviewwithavampir #anneric #book #horror #ilovevamp', 'hey, everyth gonna okay, may god kiss weari face. everyth gonna alright, let peac tonight', '#twitter day massiv critic debat peopl like #annoy #depress #dull :expressionless_face:', 'lost without mom :crying_face: plu tired, sick full cold anoth day paradise..... #upset #unwel #missyoumommybear :sparkling_heart::sparkling_heart:', '@user', 'whi fuck saw game throne spoiler snapchat? some OF US havent saw IT yet :middle_finger_light_skin_tone::middle_finger_light_skin_tone::middle_finger_light_skin_tone::middle_finger_light_skin_tone::middle_finger_light_skin_tone: #arsehol', '@user', 'brown envelop induc panic. #posttruth', \"I wont rt thing might offend fave bc i'm better\", 'got home horribl mood mom piss moment step feet hous realli almost go', 'hit sudden wave sad']\n"
    }
   ],
   "source": [
    "# Cleaning the text\n",
    "\n",
    "import re\n",
    "import nltk\n",
    "from nltk.stem.porter import PorterStemmer\n",
    "from nltk.corpus import stopwords\n",
    "import emoji\n",
    "\n",
    "corpus = []\n",
    "ps = PorterStemmer()\n",
    "\n",
    "for index, row in dataset.iterrows():\n",
    "    tweet = row['text']\n",
    "\n",
    "    #handle users\n",
    "    tweet = re.sub('@.*', '@user', tweet) \n",
    "\n",
    "    \n",
    "    \n",
    "    tweet = tweet.split()\n",
    "    #tweet = nltk.word_tokenize(tweet)\n",
    "    \n",
    "    # stemming and stop word removal\n",
    "    tweet = ' '.join([ps.stem(w) for w in tweet if not w in set(stopwords.words('english'))])\n",
    "    \n",
    "    #emojis\n",
    "    tweet = emoji.demojize(tweet)\n",
    "    \n",
    "    corpus.append(tweet)\n",
    "\n",
    "print(corpus)\n"
   ]
  },
  {
   "cell_type": "code",
   "execution_count": 9,
   "metadata": {
    "tags": [
     "outputPrepend"
    ]
   },
   "outputs": [
    {
     "output_type": "stream",
     "name": "stdout",
     "text": "(0, 278)\t0.28159131428253475\n  (0, 338)\t0.3009830535592798\n  (0, 946)\t0.3009830535592798\n  (0, 303)\t0.3009830535592798\n  (0, 1042)\t0.3009830535592798\n  (0, 224)\t0.3009830535592798\n  (0, 866)\t0.3009830535592798\n  (0, 508)\t0.25716061207447155\n  (0, 114)\t0.3009830535592798\n  (0, 820)\t0.2678326563067407\n  (0, 917)\t0.3009830535592798\n  (0, 1388)\t0.2410685199167384\n  (1, 1359)\t1.0\n  (2, 1359)\t1.0\n  (3, 1085)\t0.22656138633216732\n  (3, 207)\t0.3279711119122229\n  (3, 1379)\t0.24958718646104283\n  (3, 1343)\t0.2802192711008592\n  (3, 959)\t0.27071771263949884\n  (3, 502)\t0.3279711119122229\n  (3, 1213)\t0.2557253657236868\n  (3, 468)\t0.3068405857337669\n  (3, 791)\t0.3279711119122229\n  (3, 610)\t0.3279711119122229\n  (3, 259)\t0.29184823881795485\n  :\t:\n  (394, 441)\t0.38190914014247707\n  (394, 1429)\t0.38190914014247707\n  (394, 899)\t0.35730349412529966\n  (394, 135)\t0.33984551044511535\n  (394, 788)\t0.33984551044511535\n  (394, 1284)\t0.32630404627259624\n  (394, 1076)\t0.35730349412529966\n  (394, 148)\t0.33984551044511535\n  (395, 55)\t0.31046024953144274\n  (395, 604)\t0.31046024953144274\n  (395, 1210)\t0.31046024953144274\n  (395, 449)\t0.29045791337492816\n  (395, 972)\t0.29045791337492816\n  (395, 808)\t0.29045791337492816\n  (395, 528)\t0.25626369386195913\n  (395, 1036)\t0.23626135770544457\n  (395, 590)\t0.26525795007450326\n  (395, 514)\t0.21812082102778593\n  (395, 597)\t0.27626603001847366\n  (395, 804)\t0.25626369386195913\n  (395, 805)\t0.27626603001847366\n  (396, 1386)\t0.5461550102055479\n  (396, 1234)\t0.5461550102055479\n  (396, 584)\t0.5109673295791765\n  (396, 1085)\t0.3772821195835829\n"
    }
   ],
   "source": [
    "#TF-IDF\n",
    "from sklearn.feature_extraction.text import TfidfVectorizer\n",
    "\n",
    "tfidf_vectorizer=TfidfVectorizer(use_idf=True)\n",
    "tfidf_vectorizer_vectors=tfidf_vectorizer.fit_transform(corpus)\n",
    "\n",
    "print(tfidf_vectorizer_vectors)"
   ]
  },
  {
   "cell_type": "code",
   "execution_count": 10,
   "metadata": {},
   "outputs": [
    {
     "output_type": "stream",
     "name": "stdout",
     "text": "(397, 1466) (397,)\n"
    }
   ],
   "source": [
    "from sklearn.feature_extraction.text import CountVectorizer\n",
    "import numpy as np\n",
    "\n",
    "vectorizer = CountVectorizer(max_features = 1500)\n",
    "#X = vectorizer.fit_transform(corpus).toarray()\n",
    "X = tfidf_vectorizer_vectors.toarray()\n",
    "y = []\n",
    "for index, row in dataset.iterrows():\n",
    "    y.append(int(row['level'][0]))\n",
    "y = np.array(y)\n",
    "#print(vectorizer.get_feature_names())\n",
    "print(X.shape, y.shape)"
   ]
  },
  {
   "cell_type": "code",
   "execution_count": 11,
   "metadata": {},
   "outputs": [
    {
     "output_type": "stream",
     "name": "stdout",
     "text": "(317, 1466) (317,)\n(80, 1466) (80,)\n"
    }
   ],
   "source": [
    "# Split dataset into training and test sets\n",
    "\n",
    "from sklearn.model_selection import train_test_split\n",
    "\n",
    "X_train, X_test, y_train, y_test = train_test_split(X, y, test_size = 0.20, random_state = 0)\n",
    "\n",
    "print(X_train.shape, y_train.shape)\n",
    "print(X_test.shape, y_test.shape)"
   ]
  },
  {
   "cell_type": "code",
   "execution_count": 19,
   "metadata": {},
   "outputs": [
    {
     "output_type": "stream",
     "name": "stdout",
     "text": "[[12 13  6  6]\n [ 6  8  7  1]\n [ 2  7  3  0]\n [ 2  3  2  2]]\nAccuracy:  0.3125\nPrecision:  0.37324046920821113\nRecall:  0.3125\nF1:  0.3261544611448673\n"
    }
   ],
   "source": [
    "# Naive Bayes\n",
    "\n",
    "from sklearn.naive_bayes import GaussianNB\n",
    "\n",
    "from sklearn.metrics import confusion_matrix\n",
    "from sklearn.metrics import accuracy_score\n",
    "from sklearn.metrics import precision_score\n",
    "from sklearn.metrics import recall_score\n",
    "from sklearn.metrics import f1_score\n",
    "\n",
    "classifier = GaussianNB()\n",
    "classifier.fit(X_train, y_train)\n",
    "y_pred = classifier.predict(X_test)\n",
    "\n",
    "print(confusion_matrix(y_test, y_pred))\n",
    "print('Accuracy: ', accuracy_score(y_test, y_pred))\n",
    "print('Precision: ', precision_score(y_test, y_pred, average='weighted'))\n",
    "print('Recall: ', recall_score(y_test, y_pred, average='weighted'))\n",
    "print('F1: ', f1_score(y_test, y_pred, average='weighted'))"
   ]
  },
  {
   "cell_type": "code",
   "execution_count": 21,
   "metadata": {},
   "outputs": [
    {
     "output_type": "stream",
     "name": "stdout",
     "text": "[[37  0  0  0]\n [21  1  0  0]\n [12  0  0  0]\n [ 9  0  0  0]]\nAccuracy:  0.475\nPrecision:  0.49161392405063287\nRecall:  0.475\nF1:  0.31895614692653673\n"
    }
   ],
   "source": [
    "# SVM\n",
    "\n",
    "from sklearn.svm import SVC\n",
    "\n",
    "classifier = SVC()\n",
    "classifier.fit(X_train, y_train)\n",
    "y_pred = classifier.predict(X_test)\n",
    "\n",
    "print(confusion_matrix(y_test, y_pred))\n",
    "print('Accuracy: ', accuracy_score(y_test, y_pred))\n",
    "print('Precision: ', precision_score(y_test, y_pred, average='weighted'))\n",
    "print('Recall: ', recall_score(y_test, y_pred, average='weighted'))\n",
    "print('F1: ', f1_score(y_test, y_pred, average='weighted'))"
   ]
  },
  {
   "cell_type": "code",
   "execution_count": 22,
   "metadata": {},
   "outputs": [
    {
     "output_type": "stream",
     "name": "stdout",
     "text": "[[37  0  0  0]\n [21  1  0  0]\n [12  0  0  0]\n [ 9  0  0  0]]\nAccuracy:  0.475\nPrecision:  0.49161392405063287\nRecall:  0.475\nF1:  0.31895614692653673\n"
    }
   ],
   "source": [
    "# Logistic Regression\n",
    "\n",
    "from sklearn.linear_model import LogisticRegression\n",
    "\n",
    "classifier = LogisticRegression()\n",
    "classifier.fit(X_train, y_train)\n",
    "y_pred = classifier.predict(X_test)\n",
    "\n",
    "print(confusion_matrix(y_test, y_pred))\n",
    "print('Accuracy: ', accuracy_score(y_test, y_pred))\n",
    "print('Precision: ', precision_score(y_test, y_pred, average='weighted'))\n",
    "print('Recall: ', recall_score(y_test, y_pred, average='weighted'))\n",
    "print('F1: ', f1_score(y_test, y_pred, average='weighted'))"
   ]
  },
  {
   "cell_type": "markdown",
   "metadata": {},
   "source": [
    "# Perceptron\n",
    "\n",
    "from sklearn.linear_model import Perceptron\n",
    "\n",
    "classifier = Perceptron()\n",
    "classifier.fit(X_train, y_train)\n",
    "y_pred = classifier.predict(X_test)\n",
    "\n",
    "print(confusion_matrix(y_test, y_pred))\n",
    "print('Accuracy: ', accuracy_score(y_test, y_pred))\n",
    "print('Precision: ', precision_score(y_test, y_pred, average='weighted'))\n",
    "print('Recall: ', recall_score(y_test, y_pred, average='weighted'))\n",
    "print('F1: ', f1_score(y_test, y_pred, average='weighted'))"
   ]
  },
  {
   "cell_type": "code",
   "execution_count": 23,
   "metadata": {},
   "outputs": [
    {
     "output_type": "stream",
     "name": "stdout",
     "text": "[[31  2  2  2]\n [13  3  2  4]\n [ 9  1  1  1]\n [ 4  0  1  4]]\nAccuracy:  0.4875\nPrecision:  0.4549441786283892\nRecall:  0.4875\nF1:  0.4256484295845998\n"
    }
   ],
   "source": [
    "# Decision Tree\n",
    "\n",
    "from sklearn.tree import DecisionTreeClassifier\n",
    "\n",
    "classifier = DecisionTreeClassifier()\n",
    "classifier.fit(X_train, y_train)\n",
    "y_pred = classifier.predict(X_test)\n",
    "\n",
    "print(confusion_matrix(y_test, y_pred))\n",
    "print('Accuracy: ', accuracy_score(y_test, y_pred))\n",
    "print('Precision: ', precision_score(y_test, y_pred, average='weighted'))\n",
    "print('Recall: ', recall_score(y_test, y_pred, average='weighted'))\n",
    "print('F1: ', f1_score(y_test, y_pred, average='weighted'))"
   ]
  },
  {
   "cell_type": "code",
   "execution_count": 16,
   "metadata": {},
   "outputs": [
    {
     "output_type": "stream",
     "name": "stdout",
     "text": "[[36  0  1  0]\n [18  1  1  2]\n [12  0  0  0]\n [ 8  0  0  1]]\nAccuracy:  0.475\nPrecision:  0.5375\nRecall:  0.475\nF1:  0.3426630434782608\n"
    }
   ],
   "source": [
    "# Random Forest\n",
    "\n",
    "from sklearn.ensemble import RandomForestClassifier\n",
    "\n",
    "classifier = RandomForestClassifier()\n",
    "classifier.fit(X_train, y_train)\n",
    "y_pred = classifier.predict(X_test)\n",
    "\n",
    "print(confusion_matrix(y_test, y_pred))\n",
    "print('Accuracy: ', accuracy_score(y_test, y_pred))\n",
    "print('Precision: ', precision_score(y_test, y_pred, average='weighted'))\n",
    "print('Recall: ', recall_score(y_test, y_pred, average='weighted'))\n",
    "print('F1: ', f1_score(y_test, y_pred, average='weighted'))"
   ]
  },
  {
   "cell_type": "code",
   "execution_count": 24,
   "metadata": {},
   "outputs": [
    {
     "output_type": "error",
     "ename": "NameError",
     "evalue": "name 'rev' is not defined",
     "traceback": [
      "\u001b[0;31m---------------------------------------------------------------------------\u001b[0m",
      "\u001b[0;31mNameError\u001b[0m                                 Traceback (most recent call last)",
      "\u001b[0;32m<ipython-input-24-3e7b62aa217b>\u001b[0m in \u001b[0;36m<module>\u001b[0;34m\u001b[0m\n\u001b[1;32m      5\u001b[0m \u001b[0;34m\u001b[0m\u001b[0m\n\u001b[1;32m      6\u001b[0m \u001b[0mtweet\u001b[0m \u001b[0;34m=\u001b[0m \u001b[0minput\u001b[0m\u001b[0;34m(\u001b[0m\u001b[0;34m\"Enter tweet: \"\u001b[0m\u001b[0;34m)\u001b[0m\u001b[0;34m\u001b[0m\u001b[0;34m\u001b[0m\u001b[0m\n\u001b[0;32m----> 7\u001b[0;31m \u001b[0mtweet\u001b[0m \u001b[0;34m=\u001b[0m \u001b[0mre\u001b[0m\u001b[0;34m.\u001b[0m\u001b[0msub\u001b[0m\u001b[0;34m(\u001b[0m\u001b[0;34m'[^a-zA-Z]'\u001b[0m\u001b[0;34m,\u001b[0m \u001b[0;34m' '\u001b[0m\u001b[0;34m,\u001b[0m \u001b[0mrev\u001b[0m\u001b[0;34m)\u001b[0m\u001b[0;34m.\u001b[0m\u001b[0msplit\u001b[0m\u001b[0;34m(\u001b[0m\u001b[0;34m)\u001b[0m\u001b[0;34m\u001b[0m\u001b[0;34m\u001b[0m\u001b[0m\n\u001b[0m\u001b[1;32m      8\u001b[0m \u001b[0mtweet\u001b[0m \u001b[0;34m=\u001b[0m \u001b[0;34m' '\u001b[0m\u001b[0;34m.\u001b[0m\u001b[0mjoin\u001b[0m\u001b[0;34m(\u001b[0m\u001b[0;34m[\u001b[0m\u001b[0mps\u001b[0m\u001b[0;34m.\u001b[0m\u001b[0mstem\u001b[0m\u001b[0;34m(\u001b[0m\u001b[0mw\u001b[0m\u001b[0;34m)\u001b[0m \u001b[0;32mfor\u001b[0m \u001b[0mw\u001b[0m \u001b[0;32min\u001b[0m \u001b[0mtweet\u001b[0m\u001b[0;34m]\u001b[0m\u001b[0;34m)\u001b[0m\u001b[0;34m\u001b[0m\u001b[0;34m\u001b[0m\u001b[0m\n\u001b[1;32m      9\u001b[0m \u001b[0mX\u001b[0m \u001b[0;34m=\u001b[0m \u001b[0mvectorizer\u001b[0m\u001b[0;34m.\u001b[0m\u001b[0mtransform\u001b[0m\u001b[0;34m(\u001b[0m\u001b[0;34m[\u001b[0m\u001b[0mtweet\u001b[0m\u001b[0;34m]\u001b[0m\u001b[0;34m)\u001b[0m\u001b[0;34m.\u001b[0m\u001b[0mtoarray\u001b[0m\u001b[0;34m(\u001b[0m\u001b[0;34m)\u001b[0m\u001b[0;34m\u001b[0m\u001b[0;34m\u001b[0m\u001b[0m\n",
      "\u001b[0;31mNameError\u001b[0m: name 'rev' is not defined"
     ]
    }
   ],
   "source": [
    "# Simple test\n",
    "\n",
    "import os\n",
    "import numpy as np\n",
    "\n",
    "tweet = input(\"Enter tweet: \")\n",
    "tweet = re.sub('[^a-zA-Z]', ' ', rev).split()\n",
    "tweet = ' '.join([ps.stem(w) for w in tweet])\n",
    "X = vectorizer.transform([tweet]).toarray()\n",
    "\n",
    "print(X.shape)\n",
    "print(X)\n",
    "\n",
    "print(\"Sentiment level: \", classifier.predict(X))"
   ]
  },
  {
   "cell_type": "code",
   "execution_count": null,
   "metadata": {},
   "outputs": [],
   "source": []
  }
 ],
 "metadata": {
  "kernelspec": {
   "display_name": "Python 3.6.9 64-bit ('python37': venv)",
   "language": "python",
   "name": "python36964bitpython37venvb1b630360d0f4ea08bfe0f6fcf349387"
  },
  "language_info": {
   "codemirror_mode": {
    "name": "ipython",
    "version": 3
   },
   "file_extension": ".py",
   "mimetype": "text/x-python",
   "name": "python",
   "nbconvert_exporter": "python",
   "pygments_lexer": "ipython3",
   "version": "3.6.9-final"
  }
 },
 "nbformat": 4,
 "nbformat_minor": 4
}